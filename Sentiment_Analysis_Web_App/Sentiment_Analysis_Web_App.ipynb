{
 "cells": [
  {
   "cell_type": "code",
   "execution_count": null,
   "metadata": {},
   "outputs": [],
   "source": [
    "!pip install sagemaker==1.72.0"
   ]
  },
  {
   "cell_type": "code",
   "execution_count": 1,
   "metadata": {},
   "outputs": [],
   "source": [
    "import os\n",
    "import glob\n",
    "import numpy as np\n",
    "import pandas as pd\n",
    "from sklearn.feature_extraction.text import CountVectorizer\n",
    "from sklearn.utils import shuffle\n",
    "from sklearn.metrics import accuracy_score\n",
    "import re\n",
    "import sagemaker\n",
    "from sagemaker import get_execution_role\n",
    "from sagemaker.amazon.amazon_estimator import get_image_uri\n",
    "from sagemaker.predictor import csv_serializer\n",
    "import boto3\n",
    "import json\n",
    "import pickle\n",
    "from datetime import datetime"
   ]
  },
  {
   "cell_type": "code",
   "execution_count": 9,
   "metadata": {},
   "outputs": [],
   "source": [
    "AWS_REGION = 'us-east-1'\n",
    "IAM_CLIENT = boto3.client('iam',region_name=AWS_REGION)\n",
    "LAMBDA_CLIENT = boto3.client('lambda',region_name=AWS_REGION)\n",
    "API_CLIENT = boto3.client('apigateway',region_name=AWS_REGION)\n",
    "S3_CLIENT = boto3.client('s3',region_name=AWS_REGION)\n",
    "RUNTIME_CLIENT = boto3.client('sagemaker-runtime',region_name=AWS_REGION)\n",
    "APP_NAME = f'sentiment-analysis-web-app-{datetime.now().strftime(\"%d-%m-%Y-%H-%M-%S\")}'"
   ]
  },
  {
   "cell_type": "code",
   "execution_count": 10,
   "metadata": {},
   "outputs": [],
   "source": [
    "APP_NAME = 'sentiment-analysis-web-app-08-02-2022-18-17-59'"
   ]
  },
  {
   "cell_type": "markdown",
   "metadata": {},
   "source": [
    "## Preparing and Processing the data"
   ]
  },
  {
   "cell_type": "code",
   "execution_count": 2,
   "metadata": {},
   "outputs": [],
   "source": [
    "data = {}\n",
    "labels = {}\n",
    "\n",
    "for data_type in ['train', 'test']:\n",
    "    data[data_type] = {}\n",
    "    labels[data_type] = {}\n",
    "    \n",
    "    for sentiment in ['pos', 'neg']:\n",
    "        data[data_type][sentiment] = []\n",
    "        labels[data_type][sentiment] = []\n",
    "        \n",
    "        files = glob.glob(f'data/{data_type}/{sentiment}/*.txt')\n",
    "        \n",
    "        for f in files:\n",
    "            with open(f,encoding='utf8') as review:\n",
    "                data[data_type][sentiment].append(review.read())\n",
    "                # Here we represent a positive review by '1' and a negative review by '0'\n",
    "                labels[data_type][sentiment].append(1 if sentiment == 'pos' else 0)"
   ]
  },
  {
   "cell_type": "code",
   "execution_count": 7,
   "metadata": {},
   "outputs": [],
   "source": [
    "train = pd.DataFrame({'text':data['train']['pos'] + data['train']['neg'],'sentiment':labels['train']['pos'] + labels['train']['neg']})\n",
    "test = pd.DataFrame({'text':data['test']['pos'] + data['test']['neg'],'sentiment':labels['test']['pos'] + labels['test']['neg']})"
   ]
  },
  {
   "cell_type": "code",
   "execution_count": 8,
   "metadata": {},
   "outputs": [],
   "source": [
    "train['sentiment'] = train['sentiment'].replace({1:'pos',0:'neg'})\n",
    "test['sentiment'] = test['sentiment'].replace({1:'pos',0:'neg'})"
   ]
  },
  {
   "cell_type": "code",
   "execution_count": 15,
   "metadata": {},
   "outputs": [],
   "source": [
    "with pd.ExcelWriter('data/sentiment_data.xlsx', engine='xlsxwriter') as writer:\n",
    "    test.to_excel(writer,sheet_name='test',index=False,encoding='utf-8')\n",
    "    train.to_excel(writer,sheet_name='train',index=False,encoding='utf-8')"
   ]
  },
  {
   "cell_type": "code",
   "execution_count": 16,
   "metadata": {},
   "outputs": [
    {
     "data": {
      "text/html": [
       "<div>\n",
       "<style scoped>\n",
       "    .dataframe tbody tr th:only-of-type {\n",
       "        vertical-align: middle;\n",
       "    }\n",
       "\n",
       "    .dataframe tbody tr th {\n",
       "        vertical-align: top;\n",
       "    }\n",
       "\n",
       "    .dataframe thead th {\n",
       "        text-align: right;\n",
       "    }\n",
       "</style>\n",
       "<table border=\"1\" class=\"dataframe\">\n",
       "  <thead>\n",
       "    <tr style=\"text-align: right;\">\n",
       "      <th></th>\n",
       "      <th>text</th>\n",
       "      <th>sentiment</th>\n",
       "    </tr>\n",
       "  </thead>\n",
       "  <tbody>\n",
       "    <tr>\n",
       "      <th>0</th>\n",
       "      <td>I went and saw this movie last night after bei...</td>\n",
       "      <td>pos</td>\n",
       "    </tr>\n",
       "    <tr>\n",
       "      <th>1</th>\n",
       "      <td>Actor turned director Bill Paxton follows up h...</td>\n",
       "      <td>pos</td>\n",
       "    </tr>\n",
       "    <tr>\n",
       "      <th>2</th>\n",
       "      <td>As a recreational golfer with some knowledge o...</td>\n",
       "      <td>pos</td>\n",
       "    </tr>\n",
       "    <tr>\n",
       "      <th>3</th>\n",
       "      <td>I saw this film in a sneak preview, and it is ...</td>\n",
       "      <td>pos</td>\n",
       "    </tr>\n",
       "    <tr>\n",
       "      <th>4</th>\n",
       "      <td>Bill Paxton has taken the true story of the 19...</td>\n",
       "      <td>pos</td>\n",
       "    </tr>\n",
       "    <tr>\n",
       "      <th>...</th>\n",
       "      <td>...</td>\n",
       "      <td>...</td>\n",
       "    </tr>\n",
       "    <tr>\n",
       "      <th>24995</th>\n",
       "      <td>I occasionally let my kids watch this garbage ...</td>\n",
       "      <td>neg</td>\n",
       "    </tr>\n",
       "    <tr>\n",
       "      <th>24996</th>\n",
       "      <td>When all we have anymore is pretty much realit...</td>\n",
       "      <td>neg</td>\n",
       "    </tr>\n",
       "    <tr>\n",
       "      <th>24997</th>\n",
       "      <td>The basic genre is a thriller intercut with an...</td>\n",
       "      <td>neg</td>\n",
       "    </tr>\n",
       "    <tr>\n",
       "      <th>24998</th>\n",
       "      <td>Four things intrigued me as to this film - fir...</td>\n",
       "      <td>neg</td>\n",
       "    </tr>\n",
       "    <tr>\n",
       "      <th>24999</th>\n",
       "      <td>David Bryce's comments nearby are exceptionall...</td>\n",
       "      <td>neg</td>\n",
       "    </tr>\n",
       "  </tbody>\n",
       "</table>\n",
       "<p>25000 rows × 2 columns</p>\n",
       "</div>"
      ],
      "text/plain": [
       "                                                    text sentiment\n",
       "0      I went and saw this movie last night after bei...       pos\n",
       "1      Actor turned director Bill Paxton follows up h...       pos\n",
       "2      As a recreational golfer with some knowledge o...       pos\n",
       "3      I saw this film in a sneak preview, and it is ...       pos\n",
       "4      Bill Paxton has taken the true story of the 19...       pos\n",
       "...                                                  ...       ...\n",
       "24995  I occasionally let my kids watch this garbage ...       neg\n",
       "24996  When all we have anymore is pretty much realit...       neg\n",
       "24997  The basic genre is a thriller intercut with an...       neg\n",
       "24998  Four things intrigued me as to this film - fir...       neg\n",
       "24999  David Bryce's comments nearby are exceptionall...       neg\n",
       "\n",
       "[25000 rows x 2 columns]"
      ]
     },
     "execution_count": 16,
     "metadata": {},
     "output_type": "execute_result"
    }
   ],
   "source": [
    "pd.read_excel('data/sentiment_data.xlsx',sheet_name='test')"
   ]
  },
  {
   "cell_type": "code",
   "execution_count": 19,
   "metadata": {},
   "outputs": [
    {
     "name": "stdout",
     "output_type": "stream",
     "text": [
      "IMDB reviews: train = 12500 pos / 12500 neg, test = 12500 pos / 12500 neg\n"
     ]
    }
   ],
   "source": [
    "print(\"IMDB reviews: train = {} pos / {} neg, test = {} pos / {} neg\".format(\n",
    "            len(data['train']['pos']), len(data['train']['neg']),\n",
    "            len(data['test']['pos']), len(data['test']['neg'])))"
   ]
  },
  {
   "cell_type": "code",
   "execution_count": 20,
   "metadata": {},
   "outputs": [],
   "source": [
    "train_x, train_y = shuffle(data['train']['pos'] + data['train']['neg'], labels['train']['pos'] + labels['train']['neg'])\n",
    "test_x, test_y = shuffle(data['test']['pos'] + data['test']['neg'], labels['test']['pos'] + labels['test']['neg'])"
   ]
  },
  {
   "cell_type": "code",
   "execution_count": 21,
   "metadata": {},
   "outputs": [
    {
     "name": "stdout",
     "output_type": "stream",
     "text": [
      "IMDb reviews (combined): train = 25000, test = 25000\n"
     ]
    }
   ],
   "source": [
    "print(\"IMDb reviews (combined): train = {}, test = {}\".format(len(train_x), len(test_x)))"
   ]
  },
  {
   "cell_type": "code",
   "execution_count": 22,
   "metadata": {},
   "outputs": [],
   "source": [
    "REPLACE_NO_SPACE = re.compile(\"(\\.)|(\\;)|(\\:)|(\\!)|(\\')|(\\?)|(\\,)|(\\\")|(\\()|(\\))|(\\[)|(\\])\")\n",
    "REPLACE_WITH_SPACE = re.compile(\"(<br\\s*/><br\\s*/>)|(\\-)|(\\/)\")\n",
    "\n",
    "def review_to_words(review):\n",
    "    words = REPLACE_NO_SPACE.sub(\"\", review.lower())\n",
    "    words = REPLACE_WITH_SPACE.sub(\" \", words)\n",
    "    return words"
   ]
  },
  {
   "cell_type": "code",
   "execution_count": 23,
   "metadata": {},
   "outputs": [],
   "source": [
    "train_x = [review_to_words(review) for review in train_x]\n",
    "test_x = [review_to_words(review) for review in test_x]"
   ]
  },
  {
   "cell_type": "markdown",
   "metadata": {},
   "source": [
    "Fit a vectorizer to training documents and use it to transform them\n",
    "\n",
    "Apply the same vectorizer to transform the test documents (ignore unknown words)\n",
    "\n",
    "NOTE: Training documents have already been preprocessed and tokenized into words; pass in dummy functions to skip those steps, e.g. preprocessor=lambda x: x"
   ]
  },
  {
   "cell_type": "code",
   "execution_count": 24,
   "metadata": {},
   "outputs": [],
   "source": [
    "vectorizer = CountVectorizer(max_features=5000)\n",
    "train_x = vectorizer.fit_transform(train_x).toarray()\n",
    "test_x = vectorizer.transform(test_x).toarray()\n",
    "vocabulary = vectorizer.vocabulary_"
   ]
  },
  {
   "cell_type": "code",
   "execution_count": 26,
   "metadata": {},
   "outputs": [],
   "source": [
    "pd.DataFrame(test_x).to_csv('data/test.csv', header=False, index=False)\n",
    "pd.concat([pd.DataFrame(train_y[:10000]),pd.DataFrame(train_x[:10000])], axis=1).to_csv('data/validation.csv', header=False, index=False)\n",
    "pd.concat([pd.DataFrame(train_y[10000:]),pd.DataFrame(train_x[10000:])], axis=1).to_csv('data/train.csv', header=False, index=False)"
   ]
  },
  {
   "cell_type": "code",
   "execution_count": 53,
   "metadata": {},
   "outputs": [],
   "source": [
    "class NumpyEncoder(json.JSONEncoder):\n",
    "    def default(self, obj):\n",
    "        if isinstance(obj, np.intc):\n",
    "            return int(obj)\n",
    "\n",
    "with open('data/vocabulary.json', 'w',encoding='utf8') as fp:\n",
    "    json.dump(vectorizer.vocabulary_, fp, indent=4,cls=NumpyEncoder)"
   ]
  },
  {
   "cell_type": "code",
   "execution_count": 27,
   "metadata": {},
   "outputs": [
    {
     "data": {
      "text/plain": [
       "['sentiment-analysis-web-app-08-02-2022-18-17-59']"
      ]
     },
     "execution_count": 27,
     "metadata": {},
     "output_type": "execute_result"
    }
   ],
   "source": [
    "[bucket['Name'] for bucket in S3_CLIENT.list_buckets()['Buckets'] if S3_CLIENT.get_bucket_tagging(Bucket=bucket['Name'])['TagSet'][0]['Value'] == 'sentiment-analysis-web-app']"
   ]
  },
  {
   "cell_type": "markdown",
   "metadata": {},
   "source": [
    "## Upload data to S3"
   ]
  },
  {
   "cell_type": "code",
   "execution_count": 4,
   "metadata": {},
   "outputs": [
    {
     "data": {
      "text/plain": [
       "{'ResponseMetadata': {'RequestId': 'GV6XCTWHG9HY98C5',\n",
       "  'HostId': '6Kt7c2bj4ffApa9sUnEyercJVotOHDuwHhsjEDvkskAw2h5bUN3nKwkpuDRGGI621aQic3GcG4k=',\n",
       "  'HTTPStatusCode': 200,\n",
       "  'HTTPHeaders': {'x-amz-id-2': '6Kt7c2bj4ffApa9sUnEyercJVotOHDuwHhsjEDvkskAw2h5bUN3nKwkpuDRGGI621aQic3GcG4k=',\n",
       "   'x-amz-request-id': 'GV6XCTWHG9HY98C5',\n",
       "   'date': 'Tue, 08 Feb 2022 16:20:43 GMT',\n",
       "   'location': '/sentiment-analysis-web-app-08-02-2022-18-17-59',\n",
       "   'server': 'AmazonS3',\n",
       "   'content-length': '0'},\n",
       "  'RetryAttempts': 0},\n",
       " 'Location': '/sentiment-analysis-web-app-08-02-2022-18-17-59'}"
      ]
     },
     "execution_count": 4,
     "metadata": {},
     "output_type": "execute_result"
    }
   ],
   "source": [
    "bucket = S3_CLIENT.create_bucket(Bucket=APP_NAME + '-bucket')\n",
    "bucket"
   ]
  },
  {
   "cell_type": "code",
   "execution_count": 6,
   "metadata": {},
   "outputs": [
    {
     "data": {
      "text/plain": [
       "{'ResponseMetadata': {'RequestId': 'AJVHKTKM6BCXWXE8',\n",
       "  'HostId': 'HaPhDSAUtoXzhlpVAqgsUJyHW8acaF+dBDauxfw8SeJM42EG3m+QM4V4nc8HlzuFXt5B69WoMC0=',\n",
       "  'HTTPStatusCode': 204,\n",
       "  'HTTPHeaders': {'x-amz-id-2': 'HaPhDSAUtoXzhlpVAqgsUJyHW8acaF+dBDauxfw8SeJM42EG3m+QM4V4nc8HlzuFXt5B69WoMC0=',\n",
       "   'x-amz-request-id': 'AJVHKTKM6BCXWXE8',\n",
       "   'date': 'Tue, 08 Feb 2022 16:21:26 GMT',\n",
       "   'server': 'AmazonS3'},\n",
       "  'RetryAttempts': 0}}"
      ]
     },
     "execution_count": 6,
     "metadata": {},
     "output_type": "execute_result"
    }
   ],
   "source": [
    "S3_CLIENT.put_bucket_tagging(\n",
    "    Bucket=APP_NAME + '-bucket',\n",
    "    Tagging={\n",
    "        'TagSet': [\n",
    "            {\n",
    "                'Key': 'Name',\n",
    "                'Value': 'sentiment-analysis-web-app'\n",
    "            },\n",
    "        ]\n",
    "    },\n",
    ")"
   ]
  },
  {
   "cell_type": "code",
   "execution_count": 29,
   "metadata": {},
   "outputs": [],
   "source": [
    "S3_CLIENT.upload_file(Filename = 'data/test.csv', Bucket =APP_NAME + '-bucket', Key = 'data/test.csv')"
   ]
  },
  {
   "cell_type": "code",
   "execution_count": 30,
   "metadata": {},
   "outputs": [],
   "source": [
    "S3_CLIENT.upload_file(Filename = 'data/validation.csv', Bucket =APP_NAME + '-bucket', Key = 'data/validation.csv')"
   ]
  },
  {
   "cell_type": "code",
   "execution_count": 31,
   "metadata": {},
   "outputs": [],
   "source": [
    "S3_CLIENT.upload_file(Filename = 'data/train.csv', Bucket =APP_NAME + '-bucket', Key = 'data/train.csv')"
   ]
  },
  {
   "cell_type": "code",
   "execution_count": 54,
   "metadata": {},
   "outputs": [],
   "source": [
    "S3_CLIENT.upload_file(Filename = 'data/vocabulary.json', Bucket =APP_NAME + '-bucket', Key = 'data/vocabulary.json')"
   ]
  },
  {
   "cell_type": "markdown",
   "metadata": {},
   "source": [
    "## Creating the XGBoost model"
   ]
  },
  {
   "cell_type": "code",
   "execution_count": 9,
   "metadata": {},
   "outputs": [],
   "source": [
    "session = sagemaker.Session()"
   ]
  },
  {
   "cell_type": "code",
   "execution_count": 7,
   "metadata": {},
   "outputs": [
    {
     "data": {
      "text/plain": [
       "'sentiment-analysis-web-app-08-02-2022-18-17-59-sagemaker'"
      ]
     },
     "execution_count": 7,
     "metadata": {},
     "output_type": "execute_result"
    }
   ],
   "source": [
    "AssumeRolePolicy = {\n",
    "    \"Version\": \"2012-10-17\",\n",
    "    \"Statement\": [\n",
    "        {\n",
    "            \"Sid\": \"\",\n",
    "            \"Effect\": \"Allow\",\n",
    "            \"Principal\": {\n",
    "                \"Service\": \"sagemaker.amazonaws.com\"\n",
    "            },\n",
    "            \"Action\": \"sts:AssumeRole\"\n",
    "        }\n",
    "    ]\n",
    "}\n",
    "\n",
    "sagemaker_role = IAM_CLIENT.create_role(\n",
    "                            RoleName=APP_NAME + '-sagemaker',\n",
    "                            AssumeRolePolicyDocument=json.dumps(AssumeRolePolicy),\n",
    "                          )\n",
    "sagemaker_role['Role']['RoleName']"
   ]
  },
  {
   "cell_type": "code",
   "execution_count": 21,
   "metadata": {},
   "outputs": [
    {
     "data": {
      "text/plain": [
       "{'ResponseMetadata': {'RequestId': 'd89169ef-f0a4-4fef-83fd-1de55b08406b',\n",
       "  'HTTPStatusCode': 200,\n",
       "  'HTTPHeaders': {'x-amzn-requestid': 'd89169ef-f0a4-4fef-83fd-1de55b08406b',\n",
       "   'content-type': 'text/xml',\n",
       "   'content-length': '206',\n",
       "   'date': 'Wed, 09 Feb 2022 16:37:56 GMT'},\n",
       "  'RetryAttempts': 0}}"
      ]
     },
     "execution_count": 21,
     "metadata": {},
     "output_type": "execute_result"
    }
   ],
   "source": [
    "InlinePolicy = {\n",
    "    \"Version\": \"2012-10-17\",\n",
    "    \"Statement\": [\n",
    "        {\n",
    "            \"Action\": [\n",
    "                \"s3:ListBucket\"\n",
    "            ],\n",
    "            \"Effect\": \"Allow\",\n",
    "            \"Resource\": [\n",
    "                f\"arn:aws:s3:::{APP_NAME + '-bucket'}\"\n",
    "            ]\n",
    "        },\n",
    "        {\n",
    "            \"Action\": [\n",
    "                \"s3:GetObject\",\n",
    "                \"s3:PutObject\",\n",
    "                \"s3:DeleteObject\"\n",
    "            ],\n",
    "            \"Effect\": \"Allow\",\n",
    "            \"Resource\": [\n",
    "                f\"arn:aws:s3:::{APP_NAME + '-bucket'}/*\"\n",
    "            ]\n",
    "        }\n",
    "    ]\n",
    "}\n",
    "IAM_CLIENT.put_role_policy(\n",
    "                            RoleName=sagemaker_role['Role']['RoleName'],\n",
    "                            PolicyName='AmazonSageMaker-ExecutionPolicy',\n",
    "                            PolicyDocument=json.dumps(InlinePolicy)\n",
    "                            )"
   ]
  },
  {
   "cell_type": "code",
   "execution_count": 8,
   "metadata": {},
   "outputs": [
    {
     "data": {
      "text/plain": [
       "{'ResponseMetadata': {'RequestId': '7d1d758e-7d8e-4ed9-a7e9-e34db9f6f059',\n",
       "  'HTTPStatusCode': 200,\n",
       "  'HTTPHeaders': {'x-amzn-requestid': '7d1d758e-7d8e-4ed9-a7e9-e34db9f6f059',\n",
       "   'content-type': 'text/xml',\n",
       "   'content-length': '212',\n",
       "   'date': 'Wed, 09 Feb 2022 15:40:53 GMT'},\n",
       "  'RetryAttempts': 0}}"
      ]
     },
     "execution_count": 8,
     "metadata": {},
     "output_type": "execute_result"
    }
   ],
   "source": [
    "IAM_CLIENT.attach_role_policy(\n",
    "                                RoleName=sagemaker_role['Role']['RoleName'],\n",
    "                                PolicyArn='arn:aws:iam::aws:policy/AmazonSageMakerFullAccess'\n",
    "                            )"
   ]
  },
  {
   "cell_type": "code",
   "execution_count": 22,
   "metadata": {},
   "outputs": [
    {
     "name": "stderr",
     "output_type": "stream",
     "text": [
      "'get_image_uri' method will be deprecated in favor of 'ImageURIProvider' class in SageMaker Python SDK v2.\n"
     ]
    },
    {
     "data": {
      "text/plain": [
       "'683313688378.dkr.ecr.us-east-1.amazonaws.com/sagemaker-xgboost:1.0-1-cpu-py3'"
      ]
     },
     "execution_count": 22,
     "metadata": {},
     "output_type": "execute_result"
    }
   ],
   "source": [
    "container = get_image_uri(session.boto_region_name, 'xgboost','1.0-1')\n",
    "container"
   ]
  },
  {
   "cell_type": "code",
   "execution_count": 23,
   "metadata": {},
   "outputs": [
    {
     "name": "stderr",
     "output_type": "stream",
     "text": [
      "Parameter image_name will be renamed to image_uri in SageMaker Python SDK v2.\n"
     ]
    }
   ],
   "source": [
    "xgb = sagemaker.estimator.Estimator(image_name=container, # The location of the container we wish to use\n",
    "                                    role=sagemaker_role['Role']['Arn'],                                    # What is our current IAM Role\n",
    "                                    train_instance_count=1,                  # How many compute instances\n",
    "                                    train_instance_type='ml.m4.xlarge',      # What kind of compute instances\n",
    "                                    output_path=f\"s3://{APP_NAME + '-bucket'}/output\",\n",
    "                                    sagemaker_session=session)"
   ]
  },
  {
   "cell_type": "code",
   "execution_count": 24,
   "metadata": {},
   "outputs": [],
   "source": [
    "xgb.set_hyperparameters(max_depth=5,\n",
    "                        eta=0.2,\n",
    "                        gamma=4,\n",
    "                        min_child_weight=6,\n",
    "                        subsample=0.8,\n",
    "                        silent=0,\n",
    "                        objective='binary:logistic',\n",
    "                        early_stopping_rounds=10,\n",
    "                        num_round=500)"
   ]
  },
  {
   "cell_type": "code",
   "execution_count": 25,
   "metadata": {},
   "outputs": [
    {
     "name": "stderr",
     "output_type": "stream",
     "text": [
      "'s3_input' class will be renamed to 'TrainingInput' in SageMaker Python SDK v2.\n",
      "'s3_input' class will be renamed to 'TrainingInput' in SageMaker Python SDK v2.\n"
     ]
    },
    {
     "name": "stdout",
     "output_type": "stream",
     "text": [
      "2022-02-09 16:40:18 Starting - Starting the training job...\n",
      "2022-02-09 16:40:20 Starting - Launching requested ML instances......\n",
      "2022-02-09 16:41:48 Starting - Preparing the instances for training......\n",
      "2022-02-09 16:43:03 Downloading - Downloading input data...\n",
      "2022-02-09 16:43:20 Training - Downloading the training image.........\n",
      "2022-02-09 16:45:17 Training - Training image download completed. Training in progress..INFO:sagemaker-containers:Imported framework sagemaker_xgboost_container.training\n",
      "INFO:sagemaker-containers:Failed to parse hyperparameter objective value binary:logistic to Json.\n",
      "Returning the value itself\n",
      "INFO:sagemaker-containers:No GPUs detected (normal if no gpus installed)\n",
      "INFO:sagemaker_xgboost_container.training:Running XGBoost Sagemaker in algorithm mode\n",
      "INFO:root:Determined delimiter of CSV input is ','\n",
      "INFO:root:Determined delimiter of CSV input is ','\n",
      "INFO:root:Determined delimiter of CSV input is ','\n",
      "[16:45:23] 15000x5000 matrix with 75000000 entries loaded from /opt/ml/input/data/train?format=csv&label_column=0&delimiter=,\n",
      "INFO:root:Determined delimiter of CSV input is ','\n",
      "[16:45:25] 10000x5000 matrix with 50000000 entries loaded from /opt/ml/input/data/validation?format=csv&label_column=0&delimiter=,\n",
      "INFO:root:Single node training.\n",
      "INFO:root:Train matrix has 15000 rows\n",
      "INFO:root:Validation matrix has 10000 rows\n",
      "[16:45:25] WARNING: /workspace/src/learner.cc:328: \n",
      "Parameters: { early_stopping_rounds, num_round, silent } might not be used.\n",
      "  This may not be accurate due to some parameters are only used in language bindings but\n",
      "  passed down to XGBoost core.  Or some parameters are not used but slip through this\n",
      "  verification. Please open an issue if you find above cases.\n",
      "[0]#011train-error:0.30447#011validation-error:0.31160\n",
      "[1]#011train-error:0.28853#011validation-error:0.29740\n",
      "[2]#011train-error:0.28920#011validation-error:0.29680\n",
      "[3]#011train-error:0.27807#011validation-error:0.28490\n",
      "[4]#011train-error:0.26827#011validation-error:0.27710\n",
      "[5]#011train-error:0.26140#011validation-error:0.27300\n",
      "[6]#011train-error:0.25207#011validation-error:0.26630\n",
      "[7]#011train-error:0.24493#011validation-error:0.26050\n",
      "[8]#011train-error:0.24167#011validation-error:0.25790\n",
      "[9]#011train-error:0.23453#011validation-error:0.25350\n",
      "[10]#011train-error:0.22773#011validation-error:0.24410\n",
      "[11]#011train-error:0.22080#011validation-error:0.24020\n",
      "[12]#011train-error:0.21693#011validation-error:0.23630\n",
      "[13]#011train-error:0.21380#011validation-error:0.23310\n",
      "[14]#011train-error:0.20947#011validation-error:0.22900\n",
      "[15]#011train-error:0.20680#011validation-error:0.22520\n",
      "[16]#011train-error:0.20153#011validation-error:0.22340\n",
      "[17]#011train-error:0.19913#011validation-error:0.21930\n",
      "[18]#011train-error:0.19467#011validation-error:0.21240\n",
      "[19]#011train-error:0.19247#011validation-error:0.21120\n",
      "[20]#011train-error:0.19033#011validation-error:0.20860\n",
      "[21]#011train-error:0.18760#011validation-error:0.20540\n",
      "[22]#011train-error:0.18520#011validation-error:0.20430\n",
      "[23]#011train-error:0.18327#011validation-error:0.20200\n",
      "[24]#011train-error:0.18227#011validation-error:0.20070\n",
      "[25]#011train-error:0.17987#011validation-error:0.19900\n",
      "[26]#011train-error:0.17687#011validation-error:0.19810\n",
      "[27]#011train-error:0.17547#011validation-error:0.19660\n",
      "[28]#011train-error:0.17387#011validation-error:0.19440\n",
      "[29]#011train-error:0.17253#011validation-error:0.19220\n",
      "[30]#011train-error:0.17060#011validation-error:0.19140\n",
      "[31]#011train-error:0.16920#011validation-error:0.19000\n",
      "[32]#011train-error:0.16647#011validation-error:0.19000\n",
      "[33]#011train-error:0.16467#011validation-error:0.18850\n",
      "[34]#011train-error:0.16433#011validation-error:0.18790\n",
      "[35]#011train-error:0.16233#011validation-error:0.18640\n",
      "[36]#011train-error:0.16087#011validation-error:0.18680\n",
      "[37]#011train-error:0.16000#011validation-error:0.18470\n",
      "[38]#011train-error:0.15900#011validation-error:0.18390\n",
      "[39]#011train-error:0.15893#011validation-error:0.18130\n",
      "[40]#011train-error:0.15880#011validation-error:0.18050\n",
      "[41]#011train-error:0.15520#011validation-error:0.17950\n",
      "[42]#011train-error:0.15427#011validation-error:0.17950\n",
      "[43]#011train-error:0.15320#011validation-error:0.17850\n",
      "[44]#011train-error:0.15080#011validation-error:0.17610\n",
      "[45]#011train-error:0.14953#011validation-error:0.17460\n",
      "[46]#011train-error:0.14740#011validation-error:0.17420\n",
      "[47]#011train-error:0.14620#011validation-error:0.17280\n",
      "[48]#011train-error:0.14573#011validation-error:0.17360\n",
      "[49]#011train-error:0.14460#011validation-error:0.17300\n",
      "[50]#011train-error:0.14260#011validation-error:0.17210\n",
      "[51]#011train-error:0.14120#011validation-error:0.17130\n",
      "[52]#011train-error:0.13980#011validation-error:0.17020\n",
      "[53]#011train-error:0.13900#011validation-error:0.16870\n",
      "[54]#011train-error:0.13753#011validation-error:0.16900\n",
      "[55]#011train-error:0.13653#011validation-error:0.16760\n",
      "[56]#011train-error:0.13547#011validation-error:0.16720\n",
      "[57]#011train-error:0.13500#011validation-error:0.16600\n",
      "[58]#011train-error:0.13407#011validation-error:0.16540\n",
      "[59]#011train-error:0.13320#011validation-error:0.16560\n",
      "[60]#011train-error:0.13147#011validation-error:0.16610\n",
      "[61]#011train-error:0.13020#011validation-error:0.16440\n",
      "[62]#011train-error:0.12953#011validation-error:0.16260\n",
      "[63]#011train-error:0.12807#011validation-error:0.16250\n",
      "[64]#011train-error:0.12753#011validation-error:0.16180\n",
      "[65]#011train-error:0.12627#011validation-error:0.16030\n",
      "[66]#011train-error:0.12493#011validation-error:0.15940\n",
      "[67]#011train-error:0.12480#011validation-error:0.15870\n",
      "[68]#011train-error:0.12453#011validation-error:0.15750\n",
      "[69]#011train-error:0.12413#011validation-error:0.15600\n",
      "[70]#011train-error:0.12233#011validation-error:0.15620\n",
      "[71]#011train-error:0.12180#011validation-error:0.15600\n",
      "[72]#011train-error:0.12080#011validation-error:0.15540\n",
      "[73]#011train-error:0.12020#011validation-error:0.15520\n",
      "[74]#011train-error:0.11940#011validation-error:0.15540\n",
      "[75]#011train-error:0.11953#011validation-error:0.15540\n",
      "[76]#011train-error:0.11767#011validation-error:0.15420\n",
      "[77]#011train-error:0.11713#011validation-error:0.15350\n",
      "[78]#011train-error:0.11640#011validation-error:0.15320\n",
      "[79]#011train-error:0.11587#011validation-error:0.15230\n",
      "[80]#011train-error:0.11607#011validation-error:0.15180\n",
      "[81]#011train-error:0.11520#011validation-error:0.15190\n",
      "[82]#011train-error:0.11493#011validation-error:0.15180\n",
      "[83]#011train-error:0.11387#011validation-error:0.15220\n",
      "[84]#011train-error:0.11300#011validation-error:0.15160\n",
      "[85]#011train-error:0.11260#011validation-error:0.15180\n",
      "[86]#011train-error:0.11207#011validation-error:0.15150\n",
      "[87]#011train-error:0.11127#011validation-error:0.15080\n",
      "[88]#011train-error:0.11167#011validation-error:0.15070\n",
      "[89]#011train-error:0.11113#011validation-error:0.15090\n",
      "[90]#011train-error:0.11020#011validation-error:0.15100\n",
      "[91]#011train-error:0.10887#011validation-error:0.15080\n",
      "[92]#011train-error:0.10780#011validation-error:0.15090\n",
      "[93]#011train-error:0.10753#011validation-error:0.15110\n",
      "[94]#011train-error:0.10760#011validation-error:0.15080\n",
      "[95]#011train-error:0.10667#011validation-error:0.15050\n",
      "[96]#011train-error:0.10620#011validation-error:0.14900\n",
      "[97]#011train-error:0.10580#011validation-error:0.14820\n",
      "[98]#011train-error:0.10553#011validation-error:0.14800\n",
      "[99]#011train-error:0.10487#011validation-error:0.14730\n",
      "[100]#011train-error:0.10453#011validation-error:0.14780\n",
      "[101]#011train-error:0.10347#011validation-error:0.14630\n",
      "[102]#011train-error:0.10320#011validation-error:0.14570\n",
      "[103]#011train-error:0.10307#011validation-error:0.14580\n",
      "[104]#011train-error:0.10227#011validation-error:0.14520\n",
      "[105]#011train-error:0.10240#011validation-error:0.14530\n",
      "[106]#011train-error:0.10140#011validation-error:0.14500\n",
      "[107]#011train-error:0.10080#011validation-error:0.14520\n",
      "[108]#011train-error:0.10053#011validation-error:0.14440\n",
      "[109]#011train-error:0.09953#011validation-error:0.14430\n",
      "[110]#011train-error:0.09913#011validation-error:0.14460\n",
      "[111]#011train-error:0.09867#011validation-error:0.14460\n",
      "[112]#011train-error:0.09833#011validation-error:0.14370\n",
      "[113]#011train-error:0.09907#011validation-error:0.14380\n",
      "[114]#011train-error:0.09887#011validation-error:0.14270\n",
      "[115]#011train-error:0.09893#011validation-error:0.14260\n",
      "[116]#011train-error:0.09873#011validation-error:0.14270\n",
      "[117]#011train-error:0.09873#011validation-error:0.14200\n",
      "[118]#011train-error:0.09867#011validation-error:0.14170\n",
      "[119]#011train-error:0.09813#011validation-error:0.14160\n",
      "[120]#011train-error:0.09807#011validation-error:0.14070\n",
      "[121]#011train-error:0.09800#011validation-error:0.14030\n",
      "[122]#011train-error:0.09773#011validation-error:0.13960\n",
      "[123]#011train-error:0.09740#011validation-error:0.13990\n",
      "[124]#011train-error:0.09680#011validation-error:0.14000\n",
      "[125]#011train-error:0.09573#011validation-error:0.13910\n",
      "[126]#011train-error:0.09513#011validation-error:0.13890\n",
      "[127]#011train-error:0.09493#011validation-error:0.13800\n",
      "[128]#011train-error:0.09507#011validation-error:0.13780\n",
      "[129]#011train-error:0.09467#011validation-error:0.13850\n",
      "[130]#011train-error:0.09500#011validation-error:0.13860\n",
      "[131]#011train-error:0.09447#011validation-error:0.13840\n",
      "[132]#011train-error:0.09433#011validation-error:0.13760\n",
      "[133]#011train-error:0.09360#011validation-error:0.13830\n",
      "[134]#011train-error:0.09193#011validation-error:0.13830\n",
      "[135]#011train-error:0.09153#011validation-error:0.13870\n",
      "[136]#011train-error:0.09173#011validation-error:0.13870\n",
      "[137]#011train-error:0.09207#011validation-error:0.13840\n",
      "[138]#011train-error:0.09160#011validation-error:0.13880\n",
      "[139]#011train-error:0.09093#011validation-error:0.13870\n",
      "[140]#011train-error:0.09087#011validation-error:0.13890\n",
      "[141]#011train-error:0.09067#011validation-error:0.13810\n",
      "[142]#011train-error:0.09060#011validation-error:0.13750\n",
      "[143]#011train-error:0.09033#011validation-error:0.13740\n",
      "[144]#011train-error:0.09047#011validation-error:0.13720\n",
      "[145]#011train-error:0.08960#011validation-error:0.13810\n",
      "[146]#011train-error:0.08913#011validation-error:0.13820\n",
      "[147]#011train-error:0.08880#011validation-error:0.13830\n",
      "[148]#011train-error:0.08813#011validation-error:0.13750\n",
      "[149]#011train-error:0.08793#011validation-error:0.13730\n",
      "[150]#011train-error:0.08767#011validation-error:0.13690\n",
      "[151]#011train-error:0.08773#011validation-error:0.13660\n",
      "[152]#011train-error:0.08753#011validation-error:0.13630\n",
      "[153]#011train-error:0.08733#011validation-error:0.13660\n",
      "[154]#011train-error:0.08627#011validation-error:0.13620\n",
      "[155]#011train-error:0.08640#011validation-error:0.13700\n",
      "[156]#011train-error:0.08607#011validation-error:0.13660\n",
      "[157]#011train-error:0.08500#011validation-error:0.13710\n",
      "[158]#011train-error:0.08467#011validation-error:0.13790\n",
      "[159]#011train-error:0.08380#011validation-error:0.13700\n",
      "[160]#011train-error:0.08333#011validation-error:0.13720\n",
      "\n",
      "2022-02-09 16:48:48 Uploading - Uploading generated training model[161]#011train-error:0.08320#011validation-error:0.13700\n",
      "[162]#011train-error:0.08220#011validation-error:0.13650\n",
      "[163]#011train-error:0.08213#011validation-error:0.13660\n",
      "[164]#011train-error:0.08220#011validation-error:0.13730\n",
      "\n",
      "2022-02-09 16:48:55 Completed - Training job completed\n",
      "Training seconds: 352\n",
      "Billable seconds: 352\n"
     ]
    }
   ],
   "source": [
    "s3_input_train = sagemaker.s3_input(s3_data='s3://sentiment-analysis-web-app-08-02-2022-18-17-59/data/train.csv', content_type='csv')\n",
    "s3_input_validation = sagemaker.s3_input(s3_data='s3://sentiment-analysis-web-app-08-02-2022-18-17-59/data/validation.csv', content_type='csv')\n",
    "xgb.fit({'train': s3_input_train, 'validation': s3_input_validation})"
   ]
  },
  {
   "cell_type": "markdown",
   "metadata": {},
   "source": [
    "## Deploying the model"
   ]
  },
  {
   "cell_type": "code",
   "execution_count": 33,
   "metadata": {},
   "outputs": [
    {
     "name": "stderr",
     "output_type": "stream",
     "text": [
      "Parameter image will be renamed to image_uri in SageMaker Python SDK v2.\n",
      "Using already existing model: sagemaker-xgboost-2022-02-09-16-40-19-453\n"
     ]
    },
    {
     "name": "stdout",
     "output_type": "stream",
     "text": [
      "---------!"
     ]
    }
   ],
   "source": [
    "xgb_predictor = xgb.deploy(initial_instance_count = 1, \n",
    "                        instance_type = 'ml.m4.xlarge',\n",
    "                        serializer=sagemaker.predictor.csv_serializer,\n",
    "                        content_type='text/csv',\n",
    "                        endpoint_name=APP_NAME + '-endpoint',\n",
    "                        model_name=APP_NAME + '-model')"
   ]
  },
  {
   "cell_type": "code",
   "execution_count": 6,
   "metadata": {},
   "outputs": [],
   "source": [
    "test_x = pd.read_csv('data/test.csv',header=None).values"
   ]
  },
  {
   "cell_type": "code",
   "execution_count": 51,
   "metadata": {},
   "outputs": [],
   "source": [
    "predictions = ''\n",
    "for data in np.array_split(test_x, 500):\n",
    "    predictions += (',' + xgb_predictor.predict(data).decode('utf-8'))"
   ]
  },
  {
   "cell_type": "code",
   "execution_count": 59,
   "metadata": {},
   "outputs": [
    {
     "data": {
      "text/plain": [
       "array([1., 1., 1., ..., 0., 0., 0.])"
      ]
     },
     "execution_count": 59,
     "metadata": {},
     "output_type": "execute_result"
    }
   ],
   "source": [
    "predictions = np.round(np.array(predictions.split(','))[1:].astype(float))\n",
    "predictions"
   ]
  },
  {
   "cell_type": "code",
   "execution_count": null,
   "metadata": {},
   "outputs": [],
   "source": [
    "accuracy_score(test_y, predictions)"
   ]
  },
  {
   "cell_type": "code",
   "execution_count": null,
   "metadata": {},
   "outputs": [],
   "source": [
    "','.join([str(val) for val in test_x[0]]).encode('utf-8')"
   ]
  },
  {
   "cell_type": "code",
   "execution_count": 16,
   "metadata": {},
   "outputs": [
    {
     "data": {
      "text/plain": [
       "1"
      ]
     },
     "execution_count": 16,
     "metadata": {},
     "output_type": "execute_result"
    }
   ],
   "source": [
    "response = RUNTIME_CLIENT.invoke_endpoint(EndpointName = APP_NAME + '-endpoint',# The name of the endpoint we created\n",
    "                                    ContentType = 'text/csv',\n",
    "                                    Body = ','.join([str(val) for val in test_x[1]]).encode('utf-8'))\n",
    "round(float(response['Body'].read().decode('utf-8')))"
   ]
  },
  {
   "cell_type": "code",
   "execution_count": null,
   "metadata": {},
   "outputs": [],
   "source": [
    "xgb_predictor.delete_endpoint()"
   ]
  },
  {
   "cell_type": "markdown",
   "metadata": {},
   "source": [
    "## Create an IAM Role for the Lambda function"
   ]
  },
  {
   "cell_type": "code",
   "execution_count": 3,
   "metadata": {},
   "outputs": [
    {
     "data": {
      "text/plain": [
       "{'Role': {'Path': '/',\n",
       "  'RoleName': 'Lambda_SageMaker_Role',\n",
       "  'RoleId': 'AROAYUHWLEEAXBIVWUPP6',\n",
       "  'Arn': 'arn:aws:iam::593222115585:role/Lambda_SageMaker_Role',\n",
       "  'CreateDate': datetime.datetime(2022, 2, 8, 11, 56, 26, tzinfo=tzutc()),\n",
       "  'AssumeRolePolicyDocument': {'Version': '2012-10-17',\n",
       "   'Statement': [{'Effect': 'Allow',\n",
       "     'Action': ['sts:AssumeRole'],\n",
       "     'Principal': {'Service': ['lambda.amazonaws.com']}}]}},\n",
       " 'ResponseMetadata': {'RequestId': 'b8843768-c70d-4581-a815-927f27eebb13',\n",
       "  'HTTPStatusCode': 200,\n",
       "  'HTTPHeaders': {'x-amzn-requestid': 'b8843768-c70d-4581-a815-927f27eebb13',\n",
       "   'content-type': 'text/xml',\n",
       "   'content-length': '808',\n",
       "   'date': 'Tue, 08 Feb 2022 11:56:26 GMT'},\n",
       "  'RetryAttempts': 0}}"
      ]
     },
     "execution_count": 3,
     "metadata": {},
     "output_type": "execute_result"
    }
   ],
   "source": [
    "AssumeRolePolicy = {\n",
    "    \"Version\": \"2012-10-17\",\n",
    "    \"Statement\": [\n",
    "        {\n",
    "            \"Effect\": \"Allow\",\n",
    "            \"Action\": [\n",
    "                \"sts:AssumeRole\"\n",
    "            ],\n",
    "            \"Principal\": {\n",
    "                \"Service\": [\n",
    "                    \"lambda.amazonaws.com\"\n",
    "                ]\n",
    "            }\n",
    "        }\n",
    "    ]\n",
    "}\n",
    "\n",
    "role = IAM_CLIENT.create_role(\n",
    "                            RoleName='Lambda_SageMaker_Role',\n",
    "                            AssumeRolePolicyDocument=json.dumps(AssumeRolePolicy),\n",
    "                          )\n",
    "role['Role']['RoleName']"
   ]
  },
  {
   "cell_type": "code",
   "execution_count": 4,
   "metadata": {},
   "outputs": [
    {
     "data": {
      "text/plain": [
       "{'ResponseMetadata': {'RequestId': '39201e74-c01c-4ff3-bfa0-22c4fe1f257b',\n",
       "  'HTTPStatusCode': 200,\n",
       "  'HTTPHeaders': {'x-amzn-requestid': '39201e74-c01c-4ff3-bfa0-22c4fe1f257b',\n",
       "   'content-type': 'text/xml',\n",
       "   'content-length': '212',\n",
       "   'date': 'Tue, 08 Feb 2022 11:56:30 GMT'},\n",
       "  'RetryAttempts': 0}}"
      ]
     },
     "execution_count": 4,
     "metadata": {},
     "output_type": "execute_result"
    }
   ],
   "source": [
    "IAM_CLIENT.attach_role_policy(\n",
    "                                RoleName=role['Role']['RoleName'],\n",
    "                                PolicyArn='arn:aws:iam::aws:policy/AmazonSageMakerFullAccess'\n",
    "                            )"
   ]
  },
  {
   "cell_type": "markdown",
   "metadata": {},
   "source": [
    "## Create a Lambda function"
   ]
  },
  {
   "cell_type": "code",
   "execution_count": 6,
   "metadata": {},
   "outputs": [
    {
     "data": {
      "text/plain": [
       "{'ResponseMetadata': {'RequestId': '644853ea-5ab0-4933-9aa2-926b612eb6c9',\n",
       "  'HTTPStatusCode': 201,\n",
       "  'HTTPHeaders': {'date': 'Tue, 08 Feb 2022 11:57:18 GMT',\n",
       "   'content-type': 'application/json',\n",
       "   'content-length': '987',\n",
       "   'connection': 'keep-alive',\n",
       "   'x-amzn-requestid': '644853ea-5ab0-4933-9aa2-926b612eb6c9'},\n",
       "  'RetryAttempts': 0},\n",
       " 'FunctionName': 'sentiment_analysis_xgboost_func',\n",
       " 'FunctionArn': 'arn:aws:lambda:us-east-1:593222115585:function:sentiment_analysis_xgboost_func',\n",
       " 'Runtime': 'python3.6',\n",
       " 'Role': 'arn:aws:iam::593222115585:role/Lambda_SageMaker_Role',\n",
       " 'Handler': 'handler.lambda_handler',\n",
       " 'CodeSize': 1162,\n",
       " 'Description': '',\n",
       " 'Timeout': 300,\n",
       " 'MemorySize': 128,\n",
       " 'LastModified': '2022-02-08T11:57:18.139+0000',\n",
       " 'CodeSha256': 'YDKhEIzzPUrKvaUCiys38siaVqS5qFziXXiwKYrxCXA=',\n",
       " 'Version': '$LATEST',\n",
       " 'TracingConfig': {'Mode': 'PassThrough'},\n",
       " 'RevisionId': '4b1921a1-7642-4884-a15a-4cba5b5936e9',\n",
       " 'State': 'Pending',\n",
       " 'StateReason': 'The function is being created.',\n",
       " 'StateReasonCode': 'Creating',\n",
       " 'PackageType': 'Zip'}"
      ]
     },
     "execution_count": 6,
     "metadata": {},
     "output_type": "execute_result"
    }
   ],
   "source": [
    "with open('lambda.zip', 'rb') as f:\n",
    "\tzipped_code = f.read()\n",
    "\n",
    "response = LAMBDA_CLIENT.create_function(\n",
    "                                        FunctionName='sentiment_analysis_xgboost_func',\n",
    "                                        Runtime='python3.6',\n",
    "                                        Role=role['Role']['Arn'],\n",
    "                                        Handler='handler.lambda_handler',\n",
    "                                        Code={'ZipFile':zipped_code},\n",
    "                                        Timeout=300, # Maximum allowable timeout\n",
    "                                    )\n",
    "\n",
    "response"
   ]
  },
  {
   "cell_type": "markdown",
   "metadata": {},
   "source": [
    "## Setting up API Gateway"
   ]
  },
  {
   "cell_type": "code",
   "execution_count": 40,
   "metadata": {},
   "outputs": [
    {
     "data": {
      "text/plain": [
       "{'ResponseMetadata': {'RequestId': '4394d05b-8072-40e3-9bf1-9470e9c659b2',\n",
       "  'HTTPStatusCode': 201,\n",
       "  'HTTPHeaders': {'date': 'Tue, 08 Feb 2022 12:59:00 GMT',\n",
       "   'content-type': 'application/json',\n",
       "   'content-length': '254',\n",
       "   'connection': 'keep-alive',\n",
       "   'x-amzn-requestid': '4394d05b-8072-40e3-9bf1-9470e9c659b2',\n",
       "   'x-amz-apigw-id': 'NOVbNLcJIAMEcdw='},\n",
       "  'RetryAttempts': 0},\n",
       " 'id': 'hcz3k9vcc5',\n",
       " 'name': 'sentiment_analysis_web_app',\n",
       " 'description': 'sentiment_analysis_web_app_description',\n",
       " 'createdDate': datetime.datetime(2022, 2, 8, 14, 59, tzinfo=tzlocal()),\n",
       " 'apiKeySource': 'HEADER',\n",
       " 'endpointConfiguration': {'types': ['REGIONAL']},\n",
       " 'disableExecuteApiEndpoint': False}"
      ]
     },
     "execution_count": 40,
     "metadata": {},
     "output_type": "execute_result"
    }
   ],
   "source": [
    "api = API_CLIENT.create_rest_api(\n",
    "                                name='sentiment_analysis_web_app',\n",
    "                                description='sentiment_analysis_web_app_description',\n",
    "                                endpointConfiguration={'types': ['REGIONAL']}\n",
    "                                )\n",
    "api"
   ]
  },
  {
   "cell_type": "markdown",
   "metadata": {},
   "source": [
    "## Create 'POST' Method"
   ]
  },
  {
   "cell_type": "code",
   "execution_count": 41,
   "metadata": {},
   "outputs": [
    {
     "data": {
      "text/plain": [
       "{'ResponseMetadata': {'RequestId': 'e79b1e12-23b1-4b0e-b16c-f0e6c553d884',\n",
       "  'HTTPStatusCode': 200,\n",
       "  'HTTPHeaders': {'date': 'Tue, 08 Feb 2022 12:59:05 GMT',\n",
       "   'content-type': 'application/json',\n",
       "   'content-length': '42',\n",
       "   'connection': 'keep-alive',\n",
       "   'x-amzn-requestid': 'e79b1e12-23b1-4b0e-b16c-f0e6c553d884',\n",
       "   'x-amz-apigw-id': 'NOVcAIL9oAMEdog='},\n",
       "  'RetryAttempts': 0},\n",
       " 'items': [{'id': 'many8ls9ea', 'path': '/'}]}"
      ]
     },
     "execution_count": 41,
     "metadata": {},
     "output_type": "execute_result"
    }
   ],
   "source": [
    "api_resources = API_CLIENT.get_resources(restApiId=api[\"id\"])\n",
    "api_resources"
   ]
  },
  {
   "cell_type": "code",
   "execution_count": 42,
   "metadata": {},
   "outputs": [
    {
     "data": {
      "text/plain": [
       "{'ResponseMetadata': {'RequestId': '818c6705-85fc-478d-9e95-322587c48064',\n",
       "  'HTTPStatusCode': 201,\n",
       "  'HTTPHeaders': {'date': 'Tue, 08 Feb 2022 12:59:10 GMT',\n",
       "   'content-type': 'application/json',\n",
       "   'content-length': '72',\n",
       "   'connection': 'keep-alive',\n",
       "   'x-amzn-requestid': '818c6705-85fc-478d-9e95-322587c48064',\n",
       "   'x-amz-apigw-id': 'NOVcwKG6IAMEcuQ='},\n",
       "  'RetryAttempts': 0},\n",
       " 'httpMethod': 'POST',\n",
       " 'authorizationType': 'NONE',\n",
       " 'apiKeyRequired': False}"
      ]
     },
     "execution_count": 42,
     "metadata": {},
     "output_type": "execute_result"
    }
   ],
   "source": [
    "api_method = API_CLIENT.put_method(\n",
    "    restApiId=api[\"id\"],\n",
    "    resourceId=api_resources['items'][0]['id'],\n",
    "    httpMethod='POST',\n",
    "    authorizationType='NONE'\n",
    "  )\n",
    "api_method"
   ]
  },
  {
   "cell_type": "code",
   "execution_count": 43,
   "metadata": {},
   "outputs": [
    {
     "data": {
      "text/plain": [
       "{'ResponseMetadata': {'RequestId': '3e4d4d6a-c957-49af-b3c2-592478fab48c',\n",
       "  'HTTPStatusCode': 201,\n",
       "  'HTTPHeaders': {'date': 'Tue, 08 Feb 2022 12:59:16 GMT',\n",
       "   'content-type': 'application/json',\n",
       "   'content-length': '67',\n",
       "   'connection': 'keep-alive',\n",
       "   'x-amzn-requestid': '3e4d4d6a-c957-49af-b3c2-592478fab48c',\n",
       "   'x-amz-apigw-id': 'NOVdsICuoAMEd1g='},\n",
       "  'RetryAttempts': 0},\n",
       " 'statusCode': '200',\n",
       " 'responseModels': {'application/json': 'Empty'}}"
      ]
     },
     "execution_count": 43,
     "metadata": {},
     "output_type": "execute_result"
    }
   ],
   "source": [
    "put_method_res = API_CLIENT.put_method_response(\n",
    "                                                restApiId=api[\"id\"],\n",
    "                                                resourceId=api_resources['items'][0]['id'],\n",
    "                                                httpMethod='POST',\n",
    "                                                statusCode='200',\n",
    "                                                responseModels = {'application/json': 'Empty'}\n",
    "                                            )\n",
    "put_method_res"
   ]
  },
  {
   "cell_type": "markdown",
   "metadata": {},
   "source": [
    "## Create integration point"
   ]
  },
  {
   "cell_type": "code",
   "execution_count": 44,
   "metadata": {},
   "outputs": [],
   "source": [
    "integration = API_CLIENT.put_integration(\n",
    "                                    restApiId=api[\"id\"],\n",
    "                                    resourceId=api_resources['items'][0]['id'],\n",
    "                                    httpMethod='POST',\n",
    "                                    type='AWS_PROXY', # also referred to as the 'Lambda proxy integration'\n",
    "                                    integrationHttpMethod='POST',\n",
    "                                    contentHandling = 'CONVERT_TO_TEXT',\n",
    "                                    passthroughBehavior='WHEN_NO_MATCH',\n",
    "                                    uri=f\"arn:aws:apigateway:{AWS_REGION}:lambda:path/2015-03-31/functions/{response['FunctionArn']}/invocations\",\n",
    "                                  )"
   ]
  },
  {
   "cell_type": "code",
   "execution_count": 45,
   "metadata": {},
   "outputs": [
    {
     "data": {
      "text/plain": [
       "{'ResponseMetadata': {'RequestId': '69ac8bd4-9b77-4ab8-a8d5-9fe904b43f79',\n",
       "  'HTTPStatusCode': 201,\n",
       "  'HTTPHeaders': {'date': 'Tue, 08 Feb 2022 12:59:21 GMT',\n",
       "   'content-type': 'application/json',\n",
       "   'content-length': '354',\n",
       "   'connection': 'keep-alive',\n",
       "   'x-amzn-requestid': '69ac8bd4-9b77-4ab8-a8d5-9fe904b43f79',\n",
       "   'x-amz-apigw-id': 'NOVeiLkXIAMEcdw='},\n",
       "  'RetryAttempts': 0},\n",
       " 'type': 'AWS_PROXY',\n",
       " 'httpMethod': 'POST',\n",
       " 'uri': 'arn:aws:apigateway:us-east-1:lambda:path/2015-03-31/functions/arn:aws:lambda:us-east-1:593222115585:function:sentiment_analysis_xgboost_func/invocations',\n",
       " 'passthroughBehavior': 'WHEN_NO_MATCH',\n",
       " 'contentHandling': 'CONVERT_TO_TEXT',\n",
       " 'timeoutInMillis': 29000,\n",
       " 'cacheNamespace': 'many8ls9ea',\n",
       " 'cacheKeyParameters': []}"
      ]
     },
     "execution_count": 45,
     "metadata": {},
     "output_type": "execute_result"
    }
   ],
   "source": [
    "integration"
   ]
  },
  {
   "cell_type": "code",
   "execution_count": 46,
   "metadata": {},
   "outputs": [
    {
     "data": {
      "text/plain": [
       "{'ResponseMetadata': {'RequestId': '75c3630c-5371-4daf-b92b-5fa176a54479',\n",
       "  'HTTPStatusCode': 201,\n",
       "  'HTTPHeaders': {'date': 'Tue, 08 Feb 2022 12:59:38 GMT',\n",
       "   'content-type': 'application/json',\n",
       "   'content-length': '69',\n",
       "   'connection': 'keep-alive',\n",
       "   'x-amzn-requestid': '75c3630c-5371-4daf-b92b-5fa176a54479',\n",
       "   'x-amz-apigw-id': 'NOVhJIj3IAMEdWg='},\n",
       "  'RetryAttempts': 0},\n",
       " 'statusCode': '200',\n",
       " 'responseTemplates': {'application/json': 'None'}}"
      ]
     },
     "execution_count": 46,
     "metadata": {},
     "output_type": "execute_result"
    }
   ],
   "source": [
    "integration_response = API_CLIENT.put_integration_response(\n",
    "                                        restApiId=api[\"id\"],\n",
    "                                        resourceId=api_resources['items'][0]['id'],\n",
    "                                        httpMethod='POST',\n",
    "                                        statusCode='200',\n",
    "                                        responseTemplates= {'application/json': 'None'}\n",
    "                                    )\n",
    "integration_response"
   ]
  },
  {
   "cell_type": "markdown",
   "metadata": {},
   "source": [
    "## Deploy API Gateway"
   ]
  },
  {
   "cell_type": "code",
   "execution_count": 56,
   "metadata": {},
   "outputs": [
    {
     "data": {
      "text/plain": [
       "{'ResponseMetadata': {'RequestId': 'b53a6c14-7fce-4e43-9b45-62448736f524',\n",
       "  'HTTPStatusCode': 201,\n",
       "  'HTTPHeaders': {'date': 'Tue, 08 Feb 2022 13:09:13 GMT',\n",
       "   'content-type': 'application/json',\n",
       "   'content-length': '41',\n",
       "   'connection': 'keep-alive',\n",
       "   'x-amzn-requestid': 'b53a6c14-7fce-4e43-9b45-62448736f524',\n",
       "   'x-amz-apigw-id': 'NOW7AJAMIAMEd_A='},\n",
       "  'RetryAttempts': 0},\n",
       " 'id': 'o9qs5y',\n",
       " 'createdDate': datetime.datetime(2022, 2, 8, 15, 9, 13, tzinfo=tzlocal())}"
      ]
     },
     "execution_count": 56,
     "metadata": {},
     "output_type": "execute_result"
    }
   ],
   "source": [
    "deployment = API_CLIENT.create_deployment(\n",
    "                                          restApiId=api[\"id\"],\n",
    "                                          stageName='prod',\n",
    "                                            )\n",
    "deployment"
   ]
  },
  {
   "cell_type": "code",
   "execution_count": 59,
   "metadata": {},
   "outputs": [],
   "source": [
    "stage = API_CLIENT.get_stages(\n",
    "                                restApiId=api['id'],\n",
    "                                deploymentId=deployment['id']\n",
    "                            )"
   ]
  },
  {
   "cell_type": "code",
   "execution_count": 58,
   "metadata": {},
   "outputs": [
    {
     "data": {
      "text/plain": [
       "'https://hcz3k9vcc5.execute-api.us-east-1.amazonaws.com/prod/'"
      ]
     },
     "execution_count": 58,
     "metadata": {},
     "output_type": "execute_result"
    }
   ],
   "source": [
    "f\"https://{api['id']}.execute-api.{AWS_REGION}.amazonaws.com/{stage['item'][0]['stageName']}/\""
   ]
  },
  {
   "cell_type": "markdown",
   "metadata": {},
   "source": [
    "---"
   ]
  },
  {
   "cell_type": "markdown",
   "metadata": {},
   "source": [
    "API_CLIENT.get_resources(restApiId='hcz3k9vcc5')"
   ]
  },
  {
   "cell_type": "markdown",
   "metadata": {},
   "source": [
    "API_CLIENT.get_integration(\n",
    "    restApiId='hcz3k9vcc5',\n",
    "    resourceId='many8ls9ea',\n",
    "    httpMethod='POST'\n",
    ")"
   ]
  },
  {
   "cell_type": "markdown",
   "metadata": {},
   "source": [
    "API_CLIENT.get_integration(\n",
    "    restApiId='hx40p3ml7i',\n",
    "    resourceId='56set2yag6',\n",
    "    httpMethod='POST'\n",
    ")"
   ]
  },
  {
   "cell_type": "markdown",
   "metadata": {},
   "source": [
    "API_CLIENT.get_method(\n",
    "    restApiId='hcz3k9vcc5',\n",
    "    resourceId='many8ls9ea',\n",
    "    httpMethod='POST'\n",
    ")"
   ]
  },
  {
   "cell_type": "markdown",
   "metadata": {},
   "source": [
    "API_CLIENT.get_method(\n",
    "    restApiId='hx40p3ml7i',\n",
    "    resourceId='56set2yag6',\n",
    "    httpMethod='POST'\n",
    ")"
   ]
  },
  {
   "cell_type": "markdown",
   "metadata": {},
   "source": [
    "API_CLIENT.get_integration_response(\n",
    "    restApiId='hcz3k9vcc5',\n",
    "    resourceId='many8ls9ea',\n",
    "    httpMethod='POST',\n",
    "    statusCode='200'\n",
    ")"
   ]
  },
  {
   "cell_type": "markdown",
   "metadata": {},
   "source": [
    "API_CLIENT.get_integration_response(\n",
    "                                        restApiId='hx40p3ml7i',\n",
    "                                        resourceId='56set2yag6',\n",
    "                                        httpMethod='POST',\n",
    "                                        statusCode='200'\n",
    ")"
   ]
  },
  {
   "cell_type": "markdown",
   "metadata": {},
   "source": [
    "API_CLIENT.get_method_response(\n",
    "    restApiId='hcz3k9vcc5',\n",
    "    resourceId='many8ls9ea',\n",
    "    httpMethod='POST',\n",
    "    statusCode='200'\n",
    ")"
   ]
  },
  {
   "cell_type": "markdown",
   "metadata": {},
   "source": [
    "API_CLIENT.get_method_response(\n",
    "                                        restApiId='hx40p3ml7i',\n",
    "                                        resourceId='56set2yag6',\n",
    "                                        httpMethod='POST',\n",
    "                                        statusCode='200'\n",
    ")"
   ]
  }
 ],
 "metadata": {
  "interpreter": {
   "hash": "8a6378035587bb97055001603ea9d85a2aa377cc6252a50ffca4355a71bc8b90"
  },
  "kernelspec": {
   "display_name": "Python 3.8.10 64-bit",
   "language": "python",
   "name": "python3"
  },
  "language_info": {
   "codemirror_mode": {
    "name": "ipython",
    "version": 3
   },
   "file_extension": ".py",
   "mimetype": "text/x-python",
   "name": "python",
   "nbconvert_exporter": "python",
   "pygments_lexer": "ipython3",
   "version": "3.8.10"
  },
  "orig_nbformat": 4
 },
 "nbformat": 4,
 "nbformat_minor": 2
}
