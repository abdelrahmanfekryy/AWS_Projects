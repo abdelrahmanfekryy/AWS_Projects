{
 "cells": [
  {
   "cell_type": "markdown",
   "metadata": {},
   "source": [
    "## Allocating Elastic IP address"
   ]
  },
  {
   "cell_type": "code",
   "execution_count": 1,
   "metadata": {},
   "outputs": [
    {
     "data": {
      "text/plain": [
       "dict_keys(['PublicIp', 'AllocationId', 'PublicIpv4Pool', 'NetworkBorderGroup', 'Domain', 'ResponseMetadata'])"
      ]
     },
     "execution_count": 1,
     "metadata": {},
     "output_type": "execute_result"
    }
   ],
   "source": [
    "import boto3\n",
    "\n",
    "AWS_REGION = \"us-east-1\"\n",
    "EC2_CLIENT = boto3.client('ec2', region_name=AWS_REGION)\n",
    "\n",
    "ElasticIP = EC2_CLIENT.allocate_address( Domain='vpc',\n",
    "                                    NetworkBorderGroup=AWS_REGION,\n",
    "                                    TagSpecifications=[{\n",
    "                                            'ResourceType': 'elastic-ip',\n",
    "                                            'Tags': [{\n",
    "                                                        'Key': 'Name',\n",
    "                                                        'Value': 'Lab Elastic IP'\n",
    "                                                    }]\n",
    "                                        },\n",
    "                                    ])\n",
    "\n",
    "ElasticIP.keys()"
   ]
  },
  {
   "cell_type": "code",
   "execution_count": 2,
   "metadata": {},
   "outputs": [
    {
     "data": {
      "text/plain": [
       "'eipalloc-06730daea269bd751'"
      ]
     },
     "execution_count": 2,
     "metadata": {},
     "output_type": "execute_result"
    }
   ],
   "source": [
    "ElasticIP['AllocationId']"
   ]
  },
  {
   "cell_type": "markdown",
   "metadata": {},
   "source": [
    "## Listing and describing Elastic IP addresses"
   ]
  },
  {
   "cell_type": "markdown",
   "metadata": {},
   "source": [
    "### with filter"
   ]
  },
  {
   "cell_type": "code",
   "execution_count": 3,
   "metadata": {},
   "outputs": [
    {
     "name": "stdout",
     "output_type": "stream",
     "text": [
      "{'PublicIp': '35.173.46.64', 'AllocationId': 'eipalloc-06730daea269bd751', 'Domain': 'vpc', 'Tags': [{'Key': 'Name', 'Value': 'Lab Elastic IP'}], 'PublicIpv4Pool': 'amazon', 'NetworkBorderGroup': 'us-east-1'}\n"
     ]
    }
   ],
   "source": [
    "response = EC2_CLIENT.describe_addresses(\n",
    "                                        Filters=[{\n",
    "                                                'Name': 'tag:Name',\n",
    "                                                'Values': ['Lab Elastic IP']\n",
    "                                            }]\n",
    "                                        )\n",
    "for address in response['Addresses']:\n",
    "    print(address)"
   ]
  },
  {
   "cell_type": "markdown",
   "metadata": {},
   "source": [
    "### without filter"
   ]
  },
  {
   "cell_type": "code",
   "execution_count": 4,
   "metadata": {},
   "outputs": [
    {
     "name": "stdout",
     "output_type": "stream",
     "text": [
      "{'PublicIp': '35.173.46.64', 'AllocationId': 'eipalloc-06730daea269bd751', 'Domain': 'vpc', 'Tags': [{'Key': 'Name', 'Value': 'Lab Elastic IP'}], 'PublicIpv4Pool': 'amazon', 'NetworkBorderGroup': 'us-east-1'}\n"
     ]
    }
   ],
   "source": [
    "response = EC2_CLIENT.describe_addresses()\n",
    "for address in response['Addresses']:\n",
    "    print(address)\n"
   ]
  },
  {
   "cell_type": "markdown",
   "metadata": {},
   "source": [
    "## Attaching an Elastic IP to an EC2 Instance"
   ]
  },
  {
   "cell_type": "code",
   "execution_count": 6,
   "metadata": {},
   "outputs": [
    {
     "name": "stdout",
     "output_type": "stream",
     "text": [
      "  - Instance ID: i-048f0f8d64736cb28\n"
     ]
    }
   ],
   "source": [
    "EC2_RESOURCE = boto3.resource('ec2', region_name=AWS_REGION)\n",
    "\n",
    "instances = EC2_RESOURCE.instances.filter(\n",
    "    Filters=[\n",
    "        {\n",
    "            'Name': 'tag:Name',\n",
    "            'Values': ['my-ec2-instance']\n",
    "        }\n",
    "    ]\n",
    ")\n",
    "for instance in instances:\n",
    "    print(f'  - Instance ID: {instance.id}')"
   ]
  },
  {
   "cell_type": "code",
   "execution_count": 7,
   "metadata": {},
   "outputs": [
    {
     "data": {
      "text/plain": [
       "{'AssociationId': 'eipassoc-05457dbd039ff0017',\n",
       " 'ResponseMetadata': {'RequestId': '02d091fd-5149-41ce-ad36-7faab0dc84aa',\n",
       "  'HTTPStatusCode': 200,\n",
       "  'HTTPHeaders': {'x-amzn-requestid': '02d091fd-5149-41ce-ad36-7faab0dc84aa',\n",
       "   'cache-control': 'no-cache, no-store',\n",
       "   'strict-transport-security': 'max-age=31536000; includeSubDomains',\n",
       "   'content-type': 'text/xml;charset=UTF-8',\n",
       "   'content-length': '295',\n",
       "   'date': 'Fri, 04 Feb 2022 12:58:31 GMT',\n",
       "   'server': 'AmazonEC2'},\n",
       "  'RetryAttempts': 0}}"
      ]
     },
     "execution_count": 7,
     "metadata": {},
     "output_type": "execute_result"
    }
   ],
   "source": [
    "response = EC2_CLIENT.associate_address(InstanceId='i-048f0f8d64736cb28',\n",
    "                                        AllocationId=ElasticIP['AllocationId'])\n",
    "response"
   ]
  },
  {
   "cell_type": "markdown",
   "metadata": {},
   "source": [
    "## Detaching an Elastic IP address from an EC2 instance"
   ]
  },
  {
   "cell_type": "code",
   "execution_count": 8,
   "metadata": {},
   "outputs": [
    {
     "data": {
      "text/plain": [
       "{'ResponseMetadata': {'RequestId': '11b66348-d406-4391-8014-3314b89d600b',\n",
       "  'HTTPStatusCode': 200,\n",
       "  'HTTPHeaders': {'x-amzn-requestid': '11b66348-d406-4391-8014-3314b89d600b',\n",
       "   'cache-control': 'no-cache, no-store',\n",
       "   'strict-transport-security': 'max-age=31536000; includeSubDomains',\n",
       "   'content-type': 'text/xml;charset=UTF-8',\n",
       "   'content-length': '239',\n",
       "   'date': 'Fri, 04 Feb 2022 13:00:18 GMT',\n",
       "   'server': 'AmazonEC2'},\n",
       "  'RetryAttempts': 0}}"
      ]
     },
     "execution_count": 8,
     "metadata": {},
     "output_type": "execute_result"
    }
   ],
   "source": [
    "EC2_CLIENT.disassociate_address(AssociationId=response['AssociationId'])"
   ]
  },
  {
   "cell_type": "markdown",
   "metadata": {},
   "source": [
    "## Releasing the Elastic IP address"
   ]
  },
  {
   "cell_type": "code",
   "execution_count": 9,
   "metadata": {},
   "outputs": [
    {
     "data": {
      "text/plain": [
       "{'ResponseMetadata': {'RequestId': '7b2e9ba2-363d-48b4-8179-3ed7970b0f9e',\n",
       "  'HTTPStatusCode': 200,\n",
       "  'HTTPHeaders': {'x-amzn-requestid': '7b2e9ba2-363d-48b4-8179-3ed7970b0f9e',\n",
       "   'cache-control': 'no-cache, no-store',\n",
       "   'strict-transport-security': 'max-age=31536000; includeSubDomains',\n",
       "   'content-type': 'text/xml;charset=UTF-8',\n",
       "   'content-length': '229',\n",
       "   'date': 'Fri, 04 Feb 2022 13:00:39 GMT',\n",
       "   'server': 'AmazonEC2'},\n",
       "  'RetryAttempts': 0}}"
      ]
     },
     "execution_count": 9,
     "metadata": {},
     "output_type": "execute_result"
    }
   ],
   "source": [
    "EC2_CLIENT.release_address(AllocationId=ElasticIP['AllocationId'])"
   ]
  }
 ],
 "metadata": {
  "interpreter": {
   "hash": "8a6378035587bb97055001603ea9d85a2aa377cc6252a50ffca4355a71bc8b90"
  },
  "kernelspec": {
   "display_name": "Python 3.8.10 64-bit",
   "language": "python",
   "name": "python3"
  },
  "language_info": {
   "codemirror_mode": {
    "name": "ipython",
    "version": 3
   },
   "file_extension": ".py",
   "mimetype": "text/x-python",
   "name": "python",
   "nbconvert_exporter": "python",
   "pygments_lexer": "ipython3",
   "version": "3.8.10"
  },
  "orig_nbformat": 4
 },
 "nbformat": 4,
 "nbformat_minor": 2
}
