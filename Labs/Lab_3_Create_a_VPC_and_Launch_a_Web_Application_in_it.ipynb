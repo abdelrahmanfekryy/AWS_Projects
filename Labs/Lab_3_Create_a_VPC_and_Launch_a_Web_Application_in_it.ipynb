{
 "cells": [
  {
   "cell_type": "markdown",
   "metadata": {},
   "source": [
    "## Allocating Elastic IP address"
   ]
  },
  {
   "cell_type": "code",
   "execution_count": 1,
   "metadata": {},
   "outputs": [
    {
     "data": {
      "text/plain": [
       "dict_keys(['PublicIp', 'AllocationId', 'PublicIpv4Pool', 'NetworkBorderGroup', 'Domain', 'ResponseMetadata'])"
      ]
     },
     "execution_count": 1,
     "metadata": {},
     "output_type": "execute_result"
    }
   ],
   "source": [
    "import boto3\n",
    "\n",
    "AWS_REGION = \"us-east-1\"\n",
    "VPC_NAME = 'Lab-1'\n",
    "EC2_CLIENT = boto3.client('ec2', region_name=AWS_REGION)\n",
    "EC2_RESOURSE = boto3.resource(\"ec2\", region_name=AWS_REGION)\n",
    "\n",
    "ElasticIP = EC2_CLIENT.allocate_address( Domain='vpc',\n",
    "                                    NetworkBorderGroup=AWS_REGION,\n",
    "                                    TagSpecifications=[{\n",
    "                                            'ResourceType': 'elastic-ip',\n",
    "                                            'Tags': [{\n",
    "                                                        'Key': 'Name',\n",
    "                                                        'Value': VPC_NAME\n",
    "                                                    }]\n",
    "                                        },\n",
    "                                    ])\n",
    "\n",
    "ElasticIP"
   ]
  },
  {
   "cell_type": "markdown",
   "metadata": {},
   "source": [
    "## Create Internet Gateway"
   ]
  },
  {
   "cell_type": "code",
   "execution_count": 2,
   "metadata": {},
   "outputs": [],
   "source": [
    "internet_gateway = EC2_CLIENT.create_internet_gateway(TagSpecifications=[\n",
    "                    {\n",
    "                        'ResourceType': 'internet-gateway',\n",
    "                        'Tags': [\n",
    "                            {\n",
    "                                'Key': 'Name',\n",
    "                                'Value': VPC_NAME\n",
    "                            },\n",
    "                        ]\n",
    "                    },\n",
    "                ])"
   ]
  },
  {
   "cell_type": "code",
   "execution_count": 3,
   "metadata": {},
   "outputs": [
    {
     "data": {
      "text/plain": [
       "{'InternetGateway': {'Attachments': [],\n",
       "  'InternetGatewayId': 'igw-02cf9dcb17363df0f',\n",
       "  'OwnerId': '593222115585',\n",
       "  'Tags': [{'Key': 'Name', 'Value': 'Lab-1'}]},\n",
       " 'ResponseMetadata': {'RequestId': 'b011113a-bc12-46c6-9d5a-b6c3a7926639',\n",
       "  'HTTPStatusCode': 200,\n",
       "  'HTTPHeaders': {'x-amzn-requestid': 'b011113a-bc12-46c6-9d5a-b6c3a7926639',\n",
       "   'cache-control': 'no-cache, no-store',\n",
       "   'strict-transport-security': 'max-age=31536000; includeSubDomains',\n",
       "   'content-type': 'text/xml;charset=UTF-8',\n",
       "   'content-length': '562',\n",
       "   'date': 'Fri, 04 Feb 2022 17:24:48 GMT',\n",
       "   'server': 'AmazonEC2'},\n",
       "  'RetryAttempts': 0}}"
      ]
     },
     "execution_count": 3,
     "metadata": {},
     "output_type": "execute_result"
    }
   ],
   "source": [
    "internet_gateway"
   ]
  },
  {
   "cell_type": "markdown",
   "metadata": {},
   "source": [
    "## Creating a Custom VPC"
   ]
  },
  {
   "cell_type": "code",
   "execution_count": 4,
   "metadata": {},
   "outputs": [],
   "source": [
    "vpc = EC2_CLIENT.create_vpc(CidrBlock='10.0.0.0/16',\n",
    "                            AmazonProvidedIpv6CidrBlock=False,\n",
    "                                    InstanceTenancy='default',\n",
    "                                    TagSpecifications=[{\n",
    "                                        'ResourceType':'vpc',\n",
    "                                        'Tags': [{\n",
    "                                                'Key':'Name',\n",
    "                                                'Value':VPC_NAME\n",
    "                                                }]\n",
    "                                    }])\n",
    "\n",
    "EC2_CLIENT.get_waiter('vpc_available').wait(VpcIds=[vpc['Vpc']['VpcId']])"
   ]
  },
  {
   "cell_type": "code",
   "execution_count": 24,
   "metadata": {},
   "outputs": [
    {
     "data": {
      "text/plain": [
       "{'ResponseMetadata': {'RequestId': 'c1134a68-651a-47bf-befb-413d45aa8e88',\n",
       "  'HTTPStatusCode': 200,\n",
       "  'HTTPHeaders': {'x-amzn-requestid': 'c1134a68-651a-47bf-befb-413d45aa8e88',\n",
       "   'cache-control': 'no-cache, no-store',\n",
       "   'strict-transport-security': 'max-age=31536000; includeSubDomains',\n",
       "   'content-type': 'text/xml;charset=UTF-8',\n",
       "   'content-length': '237',\n",
       "   'date': 'Fri, 04 Feb 2022 18:23:19 GMT',\n",
       "   'server': 'AmazonEC2'},\n",
       "  'RetryAttempts': 0}}"
      ]
     },
     "execution_count": 24,
     "metadata": {},
     "output_type": "execute_result"
    }
   ],
   "source": [
    "EC2_CLIENT.modify_vpc_attribute(VpcId=vpc['Vpc']['VpcId'], EnableDnsHostnames={'Value': True})\n",
    "EC2_CLIENT.modify_vpc_attribute(VpcId=vpc['Vpc']['VpcId'], EnableDnsSupport={'Value': True})"
   ]
  },
  {
   "cell_type": "code",
   "execution_count": 6,
   "metadata": {},
   "outputs": [
    {
     "data": {
      "text/plain": [
       "{'Vpc': {'CidrBlock': '10.0.0.0/16',\n",
       "  'DhcpOptionsId': 'dopt-7aebe400',\n",
       "  'State': 'pending',\n",
       "  'VpcId': 'vpc-064a203c4c15fe796',\n",
       "  'OwnerId': '593222115585',\n",
       "  'InstanceTenancy': 'default',\n",
       "  'Ipv6CidrBlockAssociationSet': [],\n",
       "  'CidrBlockAssociationSet': [{'AssociationId': 'vpc-cidr-assoc-0ca51046681ac79d6',\n",
       "    'CidrBlock': '10.0.0.0/16',\n",
       "    'CidrBlockState': {'State': 'associated'}}],\n",
       "  'IsDefault': False,\n",
       "  'Tags': [{'Key': 'Name', 'Value': 'Lab-1'}]},\n",
       " 'ResponseMetadata': {'RequestId': '73088001-0cbc-481d-b2df-4854ef235e69',\n",
       "  'HTTPStatusCode': 200,\n",
       "  'HTTPHeaders': {'x-amzn-requestid': '73088001-0cbc-481d-b2df-4854ef235e69',\n",
       "   'cache-control': 'no-cache, no-store',\n",
       "   'strict-transport-security': 'max-age=31536000; includeSubDomains',\n",
       "   'content-type': 'text/xml;charset=UTF-8',\n",
       "   'content-length': '1048',\n",
       "   'date': 'Fri, 04 Feb 2022 17:24:49 GMT',\n",
       "   'server': 'AmazonEC2'},\n",
       "  'RetryAttempts': 0}}"
      ]
     },
     "execution_count": 6,
     "metadata": {},
     "output_type": "execute_result"
    }
   ],
   "source": [
    "vpc"
   ]
  },
  {
   "cell_type": "markdown",
   "metadata": {},
   "source": [
    "## Attach Internet Gateway to a VPC"
   ]
  },
  {
   "cell_type": "code",
   "execution_count": 16,
   "metadata": {},
   "outputs": [],
   "source": [
    "internet_gateway = EC2_CLIENT.attach_internet_gateway(\n",
    "                                                InternetGatewayId=internet_gateway['InternetGateway']['InternetGatewayId'], \n",
    "                                                VpcId=vpc['Vpc']['VpcId']\n",
    "                                                )          "
   ]
  },
  {
   "cell_type": "markdown",
   "metadata": {},
   "source": [
    "## Creating a Custom Subnet"
   ]
  },
  {
   "cell_type": "code",
   "execution_count": 17,
   "metadata": {},
   "outputs": [],
   "source": [
    "subnets = [{'Name':'Public Subnet 1',\n",
    "        'AvailabilityZone': AWS_REGION +'a',\n",
    "        'CidrBlock':'10.0.0.0/24'},\n",
    "        {'Name':'Private Subnet 1',\n",
    "        'AvailabilityZone': AWS_REGION +'a',\n",
    "        'CidrBlock':'10.0.1.0/24'},\n",
    "        {'Name':'Public Subnet 2',\n",
    "        'AvailabilityZone':AWS_REGION +'b',\n",
    "        'CidrBlock':'10.0.2.0/24'},\n",
    "        {'Name':'Private Subnet 2',\n",
    "        'AvailabilityZone':AWS_REGION +'b',\n",
    "        'CidrBlock':'10.0.3.0/24'}]"
   ]
  },
  {
   "cell_type": "code",
   "execution_count": 18,
   "metadata": {},
   "outputs": [],
   "source": [
    "subnet_ids = []\n",
    "for subnet in subnets:\n",
    "    res = EC2_CLIENT.create_subnet(TagSpecifications=[{\n",
    "                                                'ResourceType': 'subnet',\n",
    "                                                'Tags': [{\n",
    "                                                    'Key': 'Name',\n",
    "                                                    'Value': subnet['Name']\n",
    "                                                }]\n",
    "                                                }],\n",
    "                                                AvailabilityZone=subnet['AvailabilityZone'],\n",
    "                                                VpcId=vpc['Vpc']['VpcId'],\n",
    "                                                CidrBlock=subnet['CidrBlock'])\n",
    "    subnet_ids.append(res['Subnet']['SubnetId'])"
   ]
  },
  {
   "cell_type": "markdown",
   "metadata": {},
   "source": [
    "## Create NAT Gateway"
   ]
  },
  {
   "cell_type": "code",
   "execution_count": 19,
   "metadata": {},
   "outputs": [],
   "source": [
    "nat_gateway = EC2_CLIENT.create_nat_gateway(\n",
    "                                        ConnectivityType='public',\n",
    "                                        AllocationId=ElasticIP['AllocationId'],\n",
    "                                        SubnetId=subnet_ids[0],\n",
    "                                        TagSpecifications=[{\n",
    "                                            'ResourceType':'natgateway',\n",
    "                                            'Tags': [{\n",
    "                                                'Key': 'Name',\n",
    "                                                'Value': VPC_NAME\n",
    "                                            }]\n",
    "                                        }])\n",
    "\n",
    "EC2_CLIENT.get_waiter('nat_gateway_available').wait(NatGatewayIds=[nat_gateway['NatGateway']['NatGatewayId']])"
   ]
  },
  {
   "cell_type": "code",
   "execution_count": 20,
   "metadata": {},
   "outputs": [
    {
     "data": {
      "text/plain": [
       "[{'Associations': [{'Main': True,\n",
       "    'RouteTableAssociationId': 'rtbassoc-0c42f652e914b0e99',\n",
       "    'RouteTableId': 'rtb-07e816fbcbecefeaf',\n",
       "    'AssociationState': {'State': 'associated'}}],\n",
       "  'PropagatingVgws': [],\n",
       "  'RouteTableId': 'rtb-07e816fbcbecefeaf',\n",
       "  'Routes': [{'DestinationCidrBlock': '10.0.0.0/16',\n",
       "    'GatewayId': 'local',\n",
       "    'Origin': 'CreateRouteTable',\n",
       "    'State': 'active'}],\n",
       "  'Tags': [],\n",
       "  'VpcId': 'vpc-064a203c4c15fe796',\n",
       "  'OwnerId': '593222115585'}]"
      ]
     },
     "execution_count": 20,
     "metadata": {},
     "output_type": "execute_result"
    }
   ],
   "source": [
    "Private_Route_Table = EC2_CLIENT.describe_route_tables(\n",
    "                                        Filters=[{\n",
    "                                                'Name': 'vpc-id',\n",
    "                                                'Values': [vpc['Vpc']['VpcId']]\n",
    "                                            },\n",
    "                                            {\n",
    "                                                'Name': 'association.main',\n",
    "                                                'Values': ['true']\n",
    "                                            }\n",
    "                                            ]\n",
    "                                        )\n",
    "Private_Route_Table['RouteTables']"
   ]
  },
  {
   "cell_type": "code",
   "execution_count": 21,
   "metadata": {},
   "outputs": [
    {
     "data": {
      "text/plain": [
       "{'AssociationId': 'rtbassoc-0963d811313d81a10',\n",
       " 'AssociationState': {'State': 'associated'},\n",
       " 'ResponseMetadata': {'RequestId': '95a79a55-d67b-4085-ac54-f3f636c14efd',\n",
       "  'HTTPStatusCode': 200,\n",
       "  'HTTPHeaders': {'x-amzn-requestid': '95a79a55-d67b-4085-ac54-f3f636c14efd',\n",
       "   'cache-control': 'no-cache, no-store',\n",
       "   'strict-transport-security': 'max-age=31536000; includeSubDomains',\n",
       "   'content-type': 'text/xml;charset=UTF-8',\n",
       "   'content-length': '356',\n",
       "   'date': 'Fri, 04 Feb 2022 17:46:58 GMT',\n",
       "   'server': 'AmazonEC2'},\n",
       "  'RetryAttempts': 0}}"
      ]
     },
     "execution_count": 21,
     "metadata": {},
     "output_type": "execute_result"
    }
   ],
   "source": [
    "EC2_CLIENT.associate_route_table(\n",
    "                                RouteTableId=Private_Route_Table['RouteTables'][0]['Associations'][0]['RouteTableId'],\n",
    "                                SubnetId=subnet_ids[1]\n",
    "                            )\n",
    "EC2_CLIENT.associate_route_table(\n",
    "                                RouteTableId=Private_Route_Table['RouteTables'][0]['Associations'][0]['RouteTableId'],\n",
    "                                SubnetId=subnet_ids[3]\n",
    "                            )"
   ]
  },
  {
   "cell_type": "code",
   "execution_count": 22,
   "metadata": {},
   "outputs": [
    {
     "data": {
      "text/plain": [
       "{'RouteTable': {'Associations': [],\n",
       "  'PropagatingVgws': [],\n",
       "  'RouteTableId': 'rtb-055228ce9e159f1f7',\n",
       "  'Routes': [{'DestinationCidrBlock': '10.0.0.0/16',\n",
       "    'GatewayId': 'local',\n",
       "    'Origin': 'CreateRouteTable',\n",
       "    'State': 'active'}],\n",
       "  'Tags': [{'Key': 'Name', 'Value': 'Private Route Table'},\n",
       "   {'Key': 'Main', 'Value': 'No'}],\n",
       "  'VpcId': 'vpc-064a203c4c15fe796',\n",
       "  'OwnerId': '593222115585'},\n",
       " 'ResponseMetadata': {'RequestId': '83b00bbb-4779-4913-881a-0e5af2137e9d',\n",
       "  'HTTPStatusCode': 200,\n",
       "  'HTTPHeaders': {'x-amzn-requestid': '83b00bbb-4779-4913-881a-0e5af2137e9d',\n",
       "   'cache-control': 'no-cache, no-store',\n",
       "   'strict-transport-security': 'max-age=31536000; includeSubDomains',\n",
       "   'content-type': 'text/xml;charset=UTF-8',\n",
       "   'content-length': '987',\n",
       "   'date': 'Fri, 04 Feb 2022 17:55:19 GMT',\n",
       "   'server': 'AmazonEC2'},\n",
       "  'RetryAttempts': 0}}"
      ]
     },
     "execution_count": 22,
     "metadata": {},
     "output_type": "execute_result"
    }
   ],
   "source": [
    "Public_Route_Table = EC2_CLIENT.create_route_table(\n",
    "                                        VpcId=vpc['Vpc']['VpcId'],\n",
    "                                        TagSpecifications=[\n",
    "                                            {\n",
    "                                                'ResourceType': 'route-table',\n",
    "                                                'Tags': [\n",
    "                                                    {\n",
    "                                                        'Key': 'Name',\n",
    "                                                        'Value': 'Private Route Table'\n",
    "                                                    }\n",
    "                                                ]\n",
    "                                            },\n",
    "                                        ])\n",
    "Public_Route_Table"
   ]
  },
  {
   "cell_type": "code",
   "execution_count": 23,
   "metadata": {},
   "outputs": [
    {
     "data": {
      "text/plain": [
       "{'AssociationId': 'rtbassoc-0dcccf122dfe22988',\n",
       " 'AssociationState': {'State': 'associated'},\n",
       " 'ResponseMetadata': {'RequestId': '9680b573-8b8a-4d9a-a7e3-45cb9a9608f2',\n",
       "  'HTTPStatusCode': 200,\n",
       "  'HTTPHeaders': {'x-amzn-requestid': '9680b573-8b8a-4d9a-a7e3-45cb9a9608f2',\n",
       "   'cache-control': 'no-cache, no-store',\n",
       "   'strict-transport-security': 'max-age=31536000; includeSubDomains',\n",
       "   'content-type': 'text/xml;charset=UTF-8',\n",
       "   'content-length': '356',\n",
       "   'date': 'Fri, 04 Feb 2022 17:59:09 GMT',\n",
       "   'server': 'AmazonEC2'},\n",
       "  'RetryAttempts': 0}}"
      ]
     },
     "execution_count": 23,
     "metadata": {},
     "output_type": "execute_result"
    }
   ],
   "source": [
    "EC2_CLIENT.associate_route_table(\n",
    "                                RouteTableId=Public_Route_Table['RouteTable']['RouteTableId'],\n",
    "                                SubnetId=subnet_ids[0]\n",
    "                            )\n",
    "EC2_CLIENT.associate_route_table(\n",
    "                                RouteTableId=Public_Route_Table['RouteTable']['RouteTableId'],\n",
    "                                SubnetId=subnet_ids[2]\n",
    "                            )"
   ]
  },
  {
   "cell_type": "markdown",
   "metadata": {},
   "source": [
    "## Create Security Group"
   ]
  },
  {
   "cell_type": "code",
   "execution_count": 26,
   "metadata": {},
   "outputs": [
    {
     "ename": "ClientError",
     "evalue": "An error occurred (UnauthorizedOperation) when calling the CreateSecurityGroup operation: You are not authorized to perform this operation. Encoded authorization failure message: zXW69URMtMe-82Kh2YVwxH7t1cgmncmAGVXbfT5UysOiW9nPyLRYv6v9KQL1bLpP5d39pb6A0k1LDB1VgO_bmP70S36hbDTnbzjnnosswg5FKEe3Dhgp06UuGmVkDk-nuAEh9b1-kQyyQdr8xkDYTNVBAlC91h1MZttsZM16-l9BQ3DzeoUJI0MVUc0qlYAjJ_zAPDfWtuGx4w8TVr5O45-tDE6rqhVKoJojzyMgFzVUNY_G598MuIoLGuhoG1Qhni82-EREnhgylr_XiHvr1Sm108uU4ICWh2QPmsu8ielcndoDO0lZJo2Trj9WRC2dtk_yER_BhYPLe5fNvwcRCEn0Kk-jM-_0UV0M4V-IPmKf_N8QaeqIxbZJ0Y1TkuAygrMZH6DaFSuYoWxQPI4N7Npmdj7gplVkBeWyGBLCV0wOhimBIyQrIdT-LHMcXEKBxew__bYO0nAH0YcyzWafkt25r4kgg6xoS-UdlDacc1kxZdHuxXOeLQCPrA09aaiLx1Zfld269YYMpMtC385VQarWzLVoBzPDzLGVR0mr7GsDFLwhEkMl0PEjG-cZg30sQzauPR3qjO4zcJbS8VI-BkepnQ6aNkqdoxv3oQzihclJ-G2cbi5TA3uMq_PANVmrq1wNGRGO5eX0TTMX4tSNwlj1-2sdDTefv8-ZhtN1XYbeFghTHTQsWWtKyjKxwG391tobFj49f_SyTVHi-d9R-lDdbj51jBW66EZxVIy49SRh_UYFDU_r4Q9IwBsVmA",
     "output_type": "error",
     "traceback": [
      "\u001b[1;31m---------------------------------------------------------------------------\u001b[0m",
      "\u001b[1;31mClientError\u001b[0m                               Traceback (most recent call last)",
      "\u001b[1;32m~\\AppData\\Local\\Temp/ipykernel_8540/1813426859.py\u001b[0m in \u001b[0;36m<module>\u001b[1;34m\u001b[0m\n\u001b[0;32m      1\u001b[0m \u001b[0mGROUP_NAME\u001b[0m \u001b[1;33m=\u001b[0m \u001b[1;34m'Web Security Group'\u001b[0m\u001b[1;33m\u001b[0m\u001b[1;33m\u001b[0m\u001b[0m\n\u001b[1;32m----> 2\u001b[1;33m response = EC2_CLIENT.create_security_group(Description='Enable HTTP access',\n\u001b[0m\u001b[0;32m      3\u001b[0m                                                       \u001b[0mGroupName\u001b[0m\u001b[1;33m=\u001b[0m\u001b[0mGROUP_NAME\u001b[0m\u001b[1;33m,\u001b[0m\u001b[1;33m\u001b[0m\u001b[1;33m\u001b[0m\u001b[0m\n\u001b[0;32m      4\u001b[0m                                                       \u001b[0mVpcId\u001b[0m\u001b[1;33m=\u001b[0m\u001b[0mvpc\u001b[0m\u001b[1;33m[\u001b[0m\u001b[1;34m'Vpc'\u001b[0m\u001b[1;33m]\u001b[0m\u001b[1;33m[\u001b[0m\u001b[1;34m'VpcId'\u001b[0m\u001b[1;33m]\u001b[0m\u001b[1;33m,\u001b[0m\u001b[1;33m\u001b[0m\u001b[1;33m\u001b[0m\u001b[0m\n\u001b[0;32m      5\u001b[0m                                                       TagSpecifications=[{\n",
      "\u001b[1;32m~\\AppData\\Local\\Programs\\Python\\Python38\\lib\\site-packages\\botocore\\client.py\u001b[0m in \u001b[0;36m_api_call\u001b[1;34m(self, *args, **kwargs)\u001b[0m\n\u001b[0;32m    384\u001b[0m                     \"%s() only accepts keyword arguments.\" % py_operation_name)\n\u001b[0;32m    385\u001b[0m             \u001b[1;31m# The \"self\" in this scope is referring to the BaseClient.\u001b[0m\u001b[1;33m\u001b[0m\u001b[1;33m\u001b[0m\u001b[1;33m\u001b[0m\u001b[0m\n\u001b[1;32m--> 386\u001b[1;33m             \u001b[1;32mreturn\u001b[0m \u001b[0mself\u001b[0m\u001b[1;33m.\u001b[0m\u001b[0m_make_api_call\u001b[0m\u001b[1;33m(\u001b[0m\u001b[0moperation_name\u001b[0m\u001b[1;33m,\u001b[0m \u001b[0mkwargs\u001b[0m\u001b[1;33m)\u001b[0m\u001b[1;33m\u001b[0m\u001b[1;33m\u001b[0m\u001b[0m\n\u001b[0m\u001b[0;32m    387\u001b[0m \u001b[1;33m\u001b[0m\u001b[0m\n\u001b[0;32m    388\u001b[0m         \u001b[0m_api_call\u001b[0m\u001b[1;33m.\u001b[0m\u001b[0m__name__\u001b[0m \u001b[1;33m=\u001b[0m \u001b[0mstr\u001b[0m\u001b[1;33m(\u001b[0m\u001b[0mpy_operation_name\u001b[0m\u001b[1;33m)\u001b[0m\u001b[1;33m\u001b[0m\u001b[1;33m\u001b[0m\u001b[0m\n",
      "\u001b[1;32m~\\AppData\\Local\\Programs\\Python\\Python38\\lib\\site-packages\\botocore\\client.py\u001b[0m in \u001b[0;36m_make_api_call\u001b[1;34m(self, operation_name, api_params)\u001b[0m\n\u001b[0;32m    703\u001b[0m             \u001b[0merror_code\u001b[0m \u001b[1;33m=\u001b[0m \u001b[0mparsed_response\u001b[0m\u001b[1;33m.\u001b[0m\u001b[0mget\u001b[0m\u001b[1;33m(\u001b[0m\u001b[1;34m\"Error\"\u001b[0m\u001b[1;33m,\u001b[0m \u001b[1;33m{\u001b[0m\u001b[1;33m}\u001b[0m\u001b[1;33m)\u001b[0m\u001b[1;33m.\u001b[0m\u001b[0mget\u001b[0m\u001b[1;33m(\u001b[0m\u001b[1;34m\"Code\"\u001b[0m\u001b[1;33m)\u001b[0m\u001b[1;33m\u001b[0m\u001b[1;33m\u001b[0m\u001b[0m\n\u001b[0;32m    704\u001b[0m             \u001b[0merror_class\u001b[0m \u001b[1;33m=\u001b[0m \u001b[0mself\u001b[0m\u001b[1;33m.\u001b[0m\u001b[0mexceptions\u001b[0m\u001b[1;33m.\u001b[0m\u001b[0mfrom_code\u001b[0m\u001b[1;33m(\u001b[0m\u001b[0merror_code\u001b[0m\u001b[1;33m)\u001b[0m\u001b[1;33m\u001b[0m\u001b[1;33m\u001b[0m\u001b[0m\n\u001b[1;32m--> 705\u001b[1;33m             \u001b[1;32mraise\u001b[0m \u001b[0merror_class\u001b[0m\u001b[1;33m(\u001b[0m\u001b[0mparsed_response\u001b[0m\u001b[1;33m,\u001b[0m \u001b[0moperation_name\u001b[0m\u001b[1;33m)\u001b[0m\u001b[1;33m\u001b[0m\u001b[1;33m\u001b[0m\u001b[0m\n\u001b[0m\u001b[0;32m    706\u001b[0m         \u001b[1;32melse\u001b[0m\u001b[1;33m:\u001b[0m\u001b[1;33m\u001b[0m\u001b[1;33m\u001b[0m\u001b[0m\n\u001b[0;32m    707\u001b[0m             \u001b[1;32mreturn\u001b[0m \u001b[0mparsed_response\u001b[0m\u001b[1;33m\u001b[0m\u001b[1;33m\u001b[0m\u001b[0m\n",
      "\u001b[1;31mClientError\u001b[0m: An error occurred (UnauthorizedOperation) when calling the CreateSecurityGroup operation: You are not authorized to perform this operation. Encoded authorization failure message: zXW69URMtMe-82Kh2YVwxH7t1cgmncmAGVXbfT5UysOiW9nPyLRYv6v9KQL1bLpP5d39pb6A0k1LDB1VgO_bmP70S36hbDTnbzjnnosswg5FKEe3Dhgp06UuGmVkDk-nuAEh9b1-kQyyQdr8xkDYTNVBAlC91h1MZttsZM16-l9BQ3DzeoUJI0MVUc0qlYAjJ_zAPDfWtuGx4w8TVr5O45-tDE6rqhVKoJojzyMgFzVUNY_G598MuIoLGuhoG1Qhni82-EREnhgylr_XiHvr1Sm108uU4ICWh2QPmsu8ielcndoDO0lZJo2Trj9WRC2dtk_yER_BhYPLe5fNvwcRCEn0Kk-jM-_0UV0M4V-IPmKf_N8QaeqIxbZJ0Y1TkuAygrMZH6DaFSuYoWxQPI4N7Npmdj7gplVkBeWyGBLCV0wOhimBIyQrIdT-LHMcXEKBxew__bYO0nAH0YcyzWafkt25r4kgg6xoS-UdlDacc1kxZdHuxXOeLQCPrA09aaiLx1Zfld269YYMpMtC385VQarWzLVoBzPDzLGVR0mr7GsDFLwhEkMl0PEjG-cZg30sQzauPR3qjO4zcJbS8VI-BkepnQ6aNkqdoxv3oQzihclJ-G2cbi5TA3uMq_PANVmrq1wNGRGO5eX0TTMX4tSNwlj1-2sdDTefv8-ZhtN1XYbeFghTHTQsWWtKyjKxwG391tobFj49f_SyTVHi-d9R-lDdbj51jBW66EZxVIy49SRh_UYFDU_r4Q9IwBsVmA"
     ]
    }
   ],
   "source": [
    "GROUP_NAME = 'Web Security Group'\n",
    "security_group = EC2_CLIENT.create_security_group(Description='Enable HTTP access',\n",
    "                                                      GroupName=GROUP_NAME,\n",
    "                                                      VpcId=vpc['Vpc']['VpcId'],\n",
    "                                                      TagSpecifications=[{\n",
    "                                                                        'ResourceType':'security-group',\n",
    "                                                                        'Tags': [{\n",
    "                                                                                    'Key':'Name',\n",
    "                                                                                    'Value':GROUP_NAME\n",
    "                                                                                    }]\n",
    "                                                                         }]\n",
    "                                                    )\n",
    "security_group"
   ]
  },
  {
   "cell_type": "code",
   "execution_count": null,
   "metadata": {},
   "outputs": [],
   "source": [
    "response = EC2_CLIENT.authorize_security_group_ingress(\n",
    "                                                    GroupId=security_group_id,\n",
    "                                                    IpPermissions=[{\n",
    "                                                                    'IpProtocol': 'tcp',\n",
    "                                                                    'FromPort': 80,\n",
    "                                                                    'ToPort': 80,\n",
    "                                                                    'IpRanges': [{\n",
    "                                                                                    'CidrIp': '0.0.0.0/0'\n",
    "                                                                                }]\n",
    "                                                                    }]\n",
    "                                                    )"
   ]
  }
 ],
 "metadata": {
  "interpreter": {
   "hash": "8a6378035587bb97055001603ea9d85a2aa377cc6252a50ffca4355a71bc8b90"
  },
  "kernelspec": {
   "display_name": "Python 3.8.10 64-bit",
   "language": "python",
   "name": "python3"
  },
  "language_info": {
   "codemirror_mode": {
    "name": "ipython",
    "version": 3
   },
   "file_extension": ".py",
   "mimetype": "text/x-python",
   "name": "python",
   "nbconvert_exporter": "python",
   "pygments_lexer": "ipython3",
   "version": "3.8.10"
  },
  "orig_nbformat": 4
 },
 "nbformat": 4,
 "nbformat_minor": 2
}
