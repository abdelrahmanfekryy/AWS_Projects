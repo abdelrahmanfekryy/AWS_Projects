{
 "cells": [
  {
   "cell_type": "code",
   "execution_count": 17,
   "metadata": {},
   "outputs": [],
   "source": [
    "import boto3\n",
    "import json\n",
    "from datetime import datetime\n",
    "import os\n",
    "\n",
    "\n",
    "AWS_REGION = \"us-east-2\"\n",
    "BUCKET_NAME = f'employee-photo-bucket-{datetime.now().strftime(\"%d-%m-%Y-%H-%M-%S\")}'\n",
    "S3_CLIENT = boto3.client(\"s3\", region_name=AWS_REGION)\n",
    "S3_RESOURSE = boto3.resource(\"s3\", region_name=AWS_REGION)\n",
    "IAM_CLIENT = boto3.client('iam', region_name=AWS_REGION)"
   ]
  },
  {
   "cell_type": "markdown",
   "metadata": {},
   "source": [
    "## Create Role"
   ]
  },
  {
   "cell_type": "code",
   "execution_count": null,
   "metadata": {},
   "outputs": [],
   "source": [
    "AssumeRolePolicy = {\n",
    "    \"Version\": \"2012-10-17\",\n",
    "    \"Statement\": [\n",
    "        {\n",
    "            \"Effect\": \"Allow\",\n",
    "            \"Principal\": {\n",
    "                \"Service\": \"ec2.amazonaws.com\"\n",
    "            },\n",
    "            \"Action\": \"sts:AssumeRole\"\n",
    "        }\n",
    "    ]\n",
    "}\n",
    "\n",
    "IAM_CLIENT.create_role(\n",
    "                        RoleName='EmployeeDirectoryAppRole',\n",
    "                        AssumeRolePolicyDocument=json.dumps(AssumeRolePolicy)\n",
    "                    )"
   ]
  },
  {
   "cell_type": "markdown",
   "metadata": {},
   "source": [
    "## Embed an inline policy in the role"
   ]
  },
  {
   "cell_type": "code",
   "execution_count": null,
   "metadata": {},
   "outputs": [],
   "source": [
    "InlinePolicy = {\n",
    "    \"Statement\": [\n",
    "        {\n",
    "            \"Condition\": {\n",
    "                \"StringEquals\": {\n",
    "                    \"ec2:osuser\": \"ec2-user\"\n",
    "                }\n",
    "            },\n",
    "            \"Action\": [\n",
    "                \"ec2-instance-connect:SendSSHPublicKey\"\n",
    "            ],\n",
    "            \"Resource\": [\n",
    "                \"arn:aws:ec2:*:*:instance/*\"\n",
    "            ],\n",
    "            \"Effect\": \"Allow\"\n",
    "        }\n",
    "    ]\n",
    "}\n",
    "\n",
    "IAM_CLIENT.put_role_policy(\n",
    "                            RoleName='EmployeeDirectoryAppRole',\n",
    "                            PolicyName='DirectoryWebApplicationSSHPolicy',\n",
    "                            PolicyDocument=json.dumps(InlinePolicy)\n",
    "                            )"
   ]
  },
  {
   "cell_type": "markdown",
   "metadata": {},
   "source": [
    "## Creating S3 Bucket"
   ]
  },
  {
   "cell_type": "code",
   "execution_count": 18,
   "metadata": {},
   "outputs": [
    {
     "data": {
      "text/plain": [
       "{'ResponseMetadata': {'RequestId': '5KY2YVDEH1GVQ4D1',\n",
       "  'HostId': 'SLfl902Q7qcGgE3wJuHcrIQGlmEBKWVCfUS4hf8M+Ig0W+j7ObMeNrpIo99VFWPTNi6y3W0g25Y=',\n",
       "  'HTTPStatusCode': 200,\n",
       "  'HTTPHeaders': {'x-amz-id-2': 'SLfl902Q7qcGgE3wJuHcrIQGlmEBKWVCfUS4hf8M+Ig0W+j7ObMeNrpIo99VFWPTNi6y3W0g25Y=',\n",
       "   'x-amz-request-id': '5KY2YVDEH1GVQ4D1',\n",
       "   'date': 'Sat, 05 Feb 2022 17:05:46 GMT',\n",
       "   'location': 'http://employee-photo-bucket-05-02-2022-19-06-12.s3.amazonaws.com/',\n",
       "   'server': 'AmazonS3',\n",
       "   'content-length': '0'},\n",
       "  'RetryAttempts': 0},\n",
       " 'Location': 'http://employee-photo-bucket-05-02-2022-19-06-12.s3.amazonaws.com/'}"
      ]
     },
     "execution_count": 18,
     "metadata": {},
     "output_type": "execute_result"
    }
   ],
   "source": [
    "bucket = S3_CLIENT.create_bucket(Bucket=BUCKET_NAME, \n",
    "                                CreateBucketConfiguration={'LocationConstraint':AWS_REGION}\n",
    "                                )\n",
    "bucket"
   ]
  },
  {
   "cell_type": "code",
   "execution_count": 29,
   "metadata": {},
   "outputs": [],
   "source": [
    "ACCOUNT_NUMBER = \"593222115585\"\n",
    "Policy = {\n",
    "        \"Version\": \"2012-10-17\",\n",
    "        \"Statement\": [\n",
    "            {\n",
    "            \"Sid\": \"AllowS3ReadAccess\",\n",
    "            \"Effect\": \"Allow\",\n",
    "            \"Principal\": {\n",
    "                \"AWS\": f\"arn:aws:iam::{ACCOUNT_NUMBER}:role/EmployeeDirectoryAppRole\"\n",
    "            },\n",
    "            \"Action\": \"s3:*\",\n",
    "            \"Resource\": [\n",
    "                f\"arn:aws:s3:::{BUCKET_NAME}\",\n",
    "                f\"arn:aws:s3:::{BUCKET_NAME}/*\"\n",
    "            ]\n",
    "            }\n",
    "        ]\n",
    "        }"
   ]
  },
  {
   "cell_type": "code",
   "execution_count": 30,
   "metadata": {},
   "outputs": [],
   "source": [
    "response = S3_CLIENT.put_bucket_policy(\n",
    "    Bucket=BUCKET_NAME,\n",
    "    Policy=json.dumps(Policy),\n",
    "    ExpectedBucketOwner=ACCOUNT_NUMBER\n",
    ")"
   ]
  },
  {
   "cell_type": "markdown",
   "metadata": {},
   "source": [
    "## Uploading a file to S3 Bucket"
   ]
  },
  {
   "cell_type": "code",
   "execution_count": 37,
   "metadata": {},
   "outputs": [
    {
     "data": {
      "text/plain": [
       "['employee-1.png',\n",
       " 'employee-10.png',\n",
       " 'employee-2.png',\n",
       " 'employee-3.png',\n",
       " 'employee-4.png',\n",
       " 'employee-5.png',\n",
       " 'employee-6.png',\n",
       " 'employee-7.png',\n",
       " 'employee-8.png',\n",
       " 'employee-9.png']"
      ]
     },
     "execution_count": 37,
     "metadata": {},
     "output_type": "execute_result"
    }
   ],
   "source": [
    "keys = [file for file in os.listdir(\"img/\") if file.endswith(\".png\")]\n",
    "keys"
   ]
  },
  {
   "cell_type": "code",
   "execution_count": 38,
   "metadata": {},
   "outputs": [],
   "source": [
    "for Key in keys:\n",
    "    S3_CLIENT.upload_file(f'img/{Key}', BUCKET_NAME, Key)"
   ]
  },
  {
   "cell_type": "markdown",
   "metadata": {},
   "source": [
    "## Deleting non-empty S3 Bucket"
   ]
  },
  {
   "cell_type": "code",
   "execution_count": 53,
   "metadata": {},
   "outputs": [
    {
     "name": "stdout",
     "output_type": "stream",
     "text": [
      "c20300a265023l850106t1w593222115585-labbucket-13tw1hdre6l1j\n",
      "employee-photo-bucket-05-02-2022-19-06-12\n"
     ]
    }
   ],
   "source": [
    "for bucket in S3_RESOURSE.buckets.all():\n",
    "    print(bucket.name)"
   ]
  },
  {
   "cell_type": "code",
   "execution_count": 54,
   "metadata": {},
   "outputs": [
    {
     "name": "stdout",
     "output_type": "stream",
     "text": [
      "Deleting.. employee-1.png\n",
      "Deleting.. employee-10.png\n",
      "Deleting.. employee-2.png\n",
      "Deleting.. employee-3.png\n",
      "Deleting.. employee-4.png\n",
      "Deleting.. employee-5.png\n",
      "Deleting.. employee-6.png\n",
      "Deleting.. employee-7.png\n",
      "Deleting.. employee-8.png\n",
      "Deleting.. employee-9.png\n"
     ]
    },
    {
     "data": {
      "text/plain": [
       "{'ResponseMetadata': {'RequestId': 'AFYJKNBGDC1KVYED',\n",
       "  'HostId': 'UX8GT7608agdXF/c1hAGnHUVms2EptJFnSBT7xehU5e335aG6fbu+Cc/LqXSKJ1BnzjmQXOk53g=',\n",
       "  'HTTPStatusCode': 204,\n",
       "  'HTTPHeaders': {'x-amz-id-2': 'UX8GT7608agdXF/c1hAGnHUVms2EptJFnSBT7xehU5e335aG6fbu+Cc/LqXSKJ1BnzjmQXOk53g=',\n",
       "   'x-amz-request-id': 'AFYJKNBGDC1KVYED',\n",
       "   'date': 'Sat, 05 Feb 2022 18:43:42 GMT',\n",
       "   'server': 'AmazonS3'},\n",
       "  'RetryAttempts': 0}}"
      ]
     },
     "execution_count": 54,
     "metadata": {},
     "output_type": "execute_result"
    }
   ],
   "source": [
    "for object in S3_RESOURSE.Bucket(BUCKET_NAME).objects.all():\n",
    "    print('Deleting.. ' + object.key)\n",
    "    object.delete()\n",
    "S3_RESOURSE.Bucket(BUCKET_NAME).delete()"
   ]
  },
  {
   "cell_type": "code",
   "execution_count": null,
   "metadata": {},
   "outputs": [],
   "source": [
    "IAM_CLIENT.delete_role(RoleName='EmployeeDirectoryAppRole')"
   ]
  }
 ],
 "metadata": {
  "interpreter": {
   "hash": "8a6378035587bb97055001603ea9d85a2aa377cc6252a50ffca4355a71bc8b90"
  },
  "kernelspec": {
   "display_name": "Python 3.8.10 64-bit",
   "language": "python",
   "name": "python3"
  },
  "language_info": {
   "codemirror_mode": {
    "name": "ipython",
    "version": 3
   },
   "file_extension": ".py",
   "mimetype": "text/x-python",
   "name": "python",
   "nbconvert_exporter": "python",
   "pygments_lexer": "ipython3",
   "version": "3.8.10"
  },
  "orig_nbformat": 4
 },
 "nbformat": 4,
 "nbformat_minor": 2
}
