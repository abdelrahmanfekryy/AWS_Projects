{
 "cells": [
  {
   "cell_type": "markdown",
   "metadata": {},
   "source": [
    "import boto3\n",
    "\n",
    "AWS_REGION = \"us-east-2\"\n",
    "\n",
    "vpc_client = boto3.client(\"ec2\", region_name=AWS_REGION)\n",
    "\n",
    "response = vpc_client.create_default_vpc()\n",
    "\n",
    "response['Vpc']['VpcId']\n",
    "\n",
    "import boto3\n",
    "\n",
    "AWS_REGION = \"us-east-2\"\n",
    "\n",
    "sqs_resource = boto3.resource(\"ec2\", region_name=AWS_REGION)"
   ]
  },
  {
   "cell_type": "markdown",
   "metadata": {},
   "source": [
    "import boto3\n",
    "\n",
    "AWS_REGION = \"us-east-1\"\n",
    "EC2_CLIENT = boto3.client(\"ec2\", region_name=AWS_REGION)\n",
    "# create VPC\n",
    "vpc = EC2_CLIENT.create_default_vpc()"
   ]
  },
  {
   "cell_type": "code",
   "execution_count": null,
   "metadata": {},
   "outputs": [],
   "source": [
    "import boto3\n",
    "vpc_resource = boto3.resource('ec2')\n",
    "\n",
    "VPC_NAME = 'Lab VPC'\n",
    "# create VPC\n",
    "vpc = vpc_resource.create_vpc(CidrBlock='10.0.0.0/16',\n",
    "                            AmazonProvidedIpv6CidrBlock=False,\n",
    "                                    InstanceTenancy='default',\n",
    "                                    TagSpecifications=[{\n",
    "                                        'ResourceType':'vpc',\n",
    "                                        'Tags': [{\n",
    "                                                'Key':'Name',\n",
    "                                                'Value':VPC_NAME\n",
    "                                                }]\n",
    "                                    }])\n",
    "\n",
    "vpc.wait_until_available()"
   ]
  },
  {
   "cell_type": "code",
   "execution_count": null,
   "metadata": {},
   "outputs": [],
   "source": [
    "response = vpc_resource.create_subnet(TagSpecifications=[{\n",
    "                                                        'ResourceType': 'subnet',\n",
    "                                                        'Tags': [{\n",
    "                                                            'Key': 'Name',\n",
    "                                                            'Value': 'hands-on-cloud-custom-subnet'\n",
    "                                                                }]\n",
    "                                                        }],\n",
    "                                    AvailabilityZone=az,\n",
    "                                    VpcId=vpc.id,\n",
    "                                    CidrBlock=cidr_block)"
   ]
  },
  {
   "cell_type": "code",
   "execution_count": null,
   "metadata": {},
   "outputs": [],
   "source": [
    "vpc.id"
   ]
  },
  {
   "cell_type": "code",
   "execution_count": null,
   "metadata": {},
   "outputs": [],
   "source": [
    "# enable public dns hostname so that we can SSH into it later\n",
    "ec2Client = boto3.client('ec2')\n",
    "ec2Client.modify_vpc_attribute( VpcId = vpc.id , EnableDnsSupport = { 'Value': True } )\n",
    "ec2Client.modify_vpc_attribute( VpcId = vpc.id , EnableDnsHostnames = { 'Value': True } )"
   ]
  },
  {
   "cell_type": "code",
   "execution_count": null,
   "metadata": {},
   "outputs": [],
   "source": [
    "# create an internet gateway and attach it to VPC\n",
    "internetgateway = ec2.create_internet_gateway()\n",
    "vpc.attach_internet_gateway(InternetGatewayId=internetgateway.id)"
   ]
  }
 ],
 "metadata": {
  "language_info": {
   "name": "python"
  },
  "orig_nbformat": 4
 },
 "nbformat": 4,
 "nbformat_minor": 2
}
